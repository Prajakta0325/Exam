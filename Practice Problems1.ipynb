{
 "cells": [
  {
   "cell_type": "code",
   "execution_count": null,
   "id": "dde463af",
   "metadata": {},
   "outputs": [],
   "source": [
    "1. Python program for addtion of two number"
   ]
  },
  {
   "cell_type": "code",
   "execution_count": 2,
   "id": "89cd53e3",
   "metadata": {},
   "outputs": [
    {
     "name": "stdout",
     "output_type": "stream",
     "text": [
      "Enter first number:50\n",
      "Enter Second Number:20\n",
      "The sum of two number is: 70\n"
     ]
    }
   ],
   "source": [
    "first_num = int(input(\"Enter first number:\"))\n",
    "second_num = int(input(\"Enter Second Number:\"))\n",
    "sum = first_num+second_num\n",
    "print(\"The sum of two number is:\",sum)"
   ]
  },
  {
   "cell_type": "code",
   "execution_count": null,
   "id": "bb35a2e0",
   "metadata": {},
   "outputs": [],
   "source": [
    "2. Write a program to perform all airthmatic operation"
   ]
  },
  {
   "cell_type": "code",
   "execution_count": null,
   "id": "1c4441b6",
   "metadata": {},
   "outputs": [],
   "source": [
    "first_num = int(input(\"Enter first number:\"))\n",
    "second_num = int(input(\"Enter Second Number:\"))\n",
    "\n",
    "print(\"Addition of two number\",(first_num + second_num))\n",
    "print(\"Substraction of two number\",(first_num - second_num))\n"
   ]
  },
  {
   "cell_type": "code",
   "execution_count": null,
   "id": "cab34b3a",
   "metadata": {},
   "outputs": [],
   "source": [
    "3. write a program for Area of circle   pir**2"
   ]
  },
  {
   "cell_type": "code",
   "execution_count": null,
   "id": "51ee83f4",
   "metadata": {},
   "outputs": [],
   "source": [
    "4. write a program for Area and perimeter of square"
   ]
  },
  {
   "cell_type": "code",
   "execution_count": null,
   "id": "48211ed1",
   "metadata": {},
   "outputs": [],
   "source": [
    "5. write a program for Area and perimeter of rectangle"
   ]
  },
  {
   "cell_type": "code",
   "execution_count": 1,
   "id": "6cebccbb",
   "metadata": {},
   "outputs": [
    {
     "name": "stdout",
     "output_type": "stream",
     "text": [
      "Enter length10\n",
      "Enter breadth:2\n",
      "Area of rectangle: 20\n",
      "Perimeter of rectangle: 24\n"
     ]
    }
   ],
   "source": [
    "l = float(input(\"Enter length\"))\n",
    "b = float(input(\"Enter breadth:\"))\n",
    "\n",
    "print(\"Area of rectangle:\",(l*b))\n",
    "print(\"Perimeter of rectangle:\",(2*(l+b)))"
   ]
  },
  {
   "cell_type": "code",
   "execution_count": null,
   "id": "f13d1403",
   "metadata": {},
   "outputs": [],
   "source": [
    "6. Simple Interest\n",
    "(principal*rate*time)/100"
   ]
  },
  {
   "cell_type": "code",
   "execution_count": 2,
   "id": "9b62dad7",
   "metadata": {},
   "outputs": [
    {
     "name": "stdout",
     "output_type": "stream",
     "text": [
      "Enter Principal40\n",
      "Enter rate:20\n",
      "Enter time:10\n",
      "Simple Intrest=: 80.0\n"
     ]
    }
   ],
   "source": [
    "p = float(input(\"Enter Principal\"))\n",
    "r = float(input(\"Enter rate:\"))\n",
    "t = int(input(\"Enter time:\"))\n",
    "\n",
    "simple_intrest = (p*r*t)/100\n",
    "print(\"Simple Intrest=:\",simple_intrest)"
   ]
  },
  {
   "cell_type": "code",
   "execution_count": null,
   "id": "39fceedf",
   "metadata": {},
   "outputs": [],
   "source": [
    "7. Compound Intrest\n",
    "   Amount = p(1+r/100)**t\n",
    "    ci= Amount - p\n",
    "    Note:\n",
    "        p= Principal\n",
    "        r= rate\n",
    "        t = time"
   ]
  },
  {
   "cell_type": "code",
   "execution_count": 11,
   "id": "47dd8a2b",
   "metadata": {},
   "outputs": [
    {
     "name": "stdout",
     "output_type": "stream",
     "text": [
      "Enter Principal amount3000\n",
      "Enter rate:5\n",
      "Enter time :3\n",
      "Compound Intrest== 472.87500000000045\n"
     ]
    }
   ],
   "source": [
    "p= float(input(\"Enter Principal amount\"))\n",
    "r = float(input(\"Enter rate:\"))\n",
    "t= int(input(\"Enter time :\"))\n",
    "ci,Amount=0,0\n",
    "Amount= p*(1+(r/100))**t\n",
    "ci= Amount-p\n",
    "print(\"Compound Intrest==\",ci)"
   ]
  },
  {
   "cell_type": "code",
   "execution_count": null,
   "id": "bae57773",
   "metadata": {},
   "outputs": [],
   "source": [
    "8. Farieheit Scale and Celsius Scale\n",
    "\n",
    "   Formula C = [(F-32)x5]/9"
   ]
  },
  {
   "cell_type": "code",
   "execution_count": 5,
   "id": "d42184ae",
   "metadata": {},
   "outputs": [
    {
     "name": "stdout",
     "output_type": "stream",
     "text": [
      "Enter Farieheit Scale:95\n",
      "Celsius Scale=: 35.0\n"
     ]
    }
   ],
   "source": [
    "farieheit_scale = float(input(\"Enter Farieheit Scale:\"))\n",
    "\n",
    "Celsius_Scale = ((farieheit_scale-32)*5)/9\n",
    "print(\"Celsius Scale=:\",Celsius_Scale)"
   ]
  },
  {
   "cell_type": "code",
   "execution_count": null,
   "id": "01bfd74b",
   "metadata": {},
   "outputs": [],
   "source": [
    "#Maximum of three number\n",
    "\n",
    "num1= int(input(\"Enter first number :\"))\n",
    "num2= int(input(\"Enter Second number :\"))\n",
    "num3= int(input(\"Enter Thrird number :\"))\n",
    "\n",
    "if num1>num2 and num1>num3:\n",
    "    print(\"First number is greater\",num1)\n",
    "elif num2>num1 and num2>num3:\n",
    "    print(\"Second number is greater\",num2)\n",
    "else:\n",
    "    print(\"Thrid number is greater\",num3)"
   ]
  },
  {
   "cell_type": "code",
   "execution_count": 36,
   "id": "fdadfacd",
   "metadata": {},
   "outputs": [
    {
     "name": "stdout",
     "output_type": "stream",
     "text": [
      "Enter the number for fibonic sequence: 8\n",
      "0\n",
      "1\n",
      "1\n",
      "2\n",
      "3\n",
      "5\n",
      "8\n",
      "13\n",
      "21\n",
      "34\n"
     ]
    }
   ],
   "source": [
    "#fibonic series\n",
    "num= int(input(\"Enter the number for fibonic sequence: \"))\n",
    "a=0\n",
    "b=1\n",
    "print(a)\n",
    "print(b)\n",
    "sum=0\n",
    "\n",
    "for i in range (1,num+1):\n",
    "    if num==1:\n",
    "        print(a)\n",
    "    else:\n",
    "        sum=a+b\n",
    "        a=b\n",
    "        b=sum\n",
    "        print(sum)"
   ]
  },
  {
   "cell_type": "code",
   "execution_count": 40,
   "id": "81aecd0f",
   "metadata": {},
   "outputs": [
    {
     "name": "stdout",
     "output_type": "stream",
     "text": [
      "Enter your Tuple elements:(1,2,3,4,5,6,7,8,9)\n",
      "Number of even numbers :  4\n",
      "Number of odd numbers :  5\n"
     ]
    }
   ],
   "source": [
    "# Print even and odd number from list\n",
    "\n",
    "x= eval(input(\"Enter your Tuple elements:\"))\n",
    "count_even=0\n",
    "count_odd=0\n",
    "\n",
    "for i in x:\n",
    "    if i%2==0:\n",
    "        count_even=count_even+1\n",
    "    else:\n",
    "        count_odd=count_odd+1\n",
    "\n",
    "print(\"Number of even numbers : \",count_even)\n",
    "print(\"Number of odd numbers : \",count_odd)\n",
    "    "
   ]
  },
  {
   "cell_type": "code",
   "execution_count": 94,
   "id": "dc6b36ab",
   "metadata": {},
   "outputs": [
    {
     "name": "stdout",
     "output_type": "stream",
     "text": [
      "Enter your string : fgh\n",
      "Reverse string :  hgf\n"
     ]
    }
   ],
   "source": [
    "#mirrior image\n",
    "\n",
    "x= input(\"Enter your string : \")\n",
    "y=\"\"\n",
    "for i in x:\n",
    "    y=i+y\n",
    "print(\"Reverse string : \",y)\n",
    "    \n",
    "     "
   ]
  },
  {
   "cell_type": "code",
   "execution_count": 96,
   "id": "3ab1d472",
   "metadata": {},
   "outputs": [
    {
     "name": "stdout",
     "output_type": "stream",
     "text": [
      "Enter your string : fgh\n",
      "Reverse string :  hgf\n"
     ]
    }
   ],
   "source": [
    "#mirrior image\n",
    "\n",
    "x= input(\"Enter your string : \")\n",
    "y[::-1]\n",
    "print(\"Reverse string : \",y)\n",
    "    \n",
    "     "
   ]
  },
  {
   "cell_type": "code",
   "execution_count": 13,
   "id": "d275b0ea",
   "metadata": {},
   "outputs": [
    {
     "name": "stdout",
     "output_type": "stream",
     "text": [
      "Enter string : Edyoda\n",
      "adoydE"
     ]
    }
   ],
   "source": [
    "x=input(\"Enter string : \")\n",
    "for i in range((len(x)-1),-1,-1):\n",
    "    print(x[i],end=\"\")"
   ]
  },
  {
   "cell_type": "code",
   "execution_count": null,
   "id": "705527ce",
   "metadata": {},
   "outputs": [],
   "source": [
    "Quiz 3 Question"
   ]
  },
  {
   "cell_type": "code",
   "execution_count": 1,
   "id": "ddb4c778",
   "metadata": {},
   "outputs": [
    {
     "name": "stdout",
     "output_type": "stream",
     "text": [
      "a\n",
      "a\n",
      "a\n",
      "a\n"
     ]
    }
   ],
   "source": [
    "x='abcd'\n",
    "for i in range(len(x)):\n",
    "    x='a'\n",
    "    print(x)"
   ]
  },
  {
   "cell_type": "code",
   "execution_count": 2,
   "id": "df7e1c32",
   "metadata": {},
   "outputs": [],
   "source": [
    "for i in range(0):\n",
    "    print(i) #no output"
   ]
  },
  {
   "cell_type": "code",
   "execution_count": 1,
   "id": "830c4800",
   "metadata": {},
   "outputs": [
    {
     "name": "stdout",
     "output_type": "stream",
     "text": [
      "1\n",
      "2\n"
     ]
    }
   ],
   "source": [
    "i=1\n",
    "while True:\n",
    "    if i%3==0:\n",
    "        break\n",
    "    print(i)\n",
    "    i+=1"
   ]
  },
  {
   "cell_type": "code",
   "execution_count": null,
   "id": "a77b89ad",
   "metadata": {},
   "outputs": [],
   "source": []
  }
 ],
 "metadata": {
  "kernelspec": {
   "display_name": "Python 3 (ipykernel)",
   "language": "python",
   "name": "python3"
  },
  "language_info": {
   "codemirror_mode": {
    "name": "ipython",
    "version": 3
   },
   "file_extension": ".py",
   "mimetype": "text/x-python",
   "name": "python",
   "nbconvert_exporter": "python",
   "pygments_lexer": "ipython3",
   "version": "3.9.13"
  }
 },
 "nbformat": 4,
 "nbformat_minor": 5
}
