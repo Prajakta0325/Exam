{
 "cells": [
  {
   "cell_type": "code",
   "execution_count": null,
   "id": "39e4ce1b",
   "metadata": {},
   "outputs": [],
   "source": [
    "check character is vowel or not"
   ]
  },
  {
   "cell_type": "code",
   "execution_count": 1,
   "id": "7fabe06b",
   "metadata": {},
   "outputs": [
    {
     "name": "stdout",
     "output_type": "stream",
     "text": [
      "Enter the caracter :K\n",
      "not vowel\n"
     ]
    }
   ],
   "source": [
    "string1 = input(\"Enter the caracter :\")\n",
    "if string1 in [\"a\",\"e\",\"i\",\"o\",\"u\",\"A\",\"E\",\"I\",\"O\",\"U\"]:\n",
    "    print(\"vowel\")\n",
    "else:\n",
    "    print(\"not vowel\")"
   ]
  },
  {
   "cell_type": "code",
   "execution_count": null,
   "id": "b330cf04",
   "metadata": {},
   "outputs": [],
   "source": [
    "write a program which number is divisible by 11 but not by 2 from range 100 to 500"
   ]
  },
  {
   "cell_type": "code",
   "execution_count": 18,
   "id": "f79befb5",
   "metadata": {},
   "outputs": [
    {
     "name": "stdout",
     "output_type": "stream",
     "text": [
      "121\n",
      "143\n",
      "165\n",
      "187\n",
      "209\n",
      "231\n",
      "253\n",
      "275\n",
      "297\n",
      "319\n",
      "341\n",
      "363\n",
      "385\n",
      "407\n",
      "429\n",
      "451\n",
      "473\n",
      "495\n"
     ]
    }
   ],
   "source": [
    "for i in range(100,501):\n",
    "    if i%11==0:\n",
    "        if i%2!=0:\n",
    "            print(i)"
   ]
  },
  {
   "cell_type": "code",
   "execution_count": null,
   "id": "db481e5f",
   "metadata": {},
   "outputs": [],
   "source": [
    "Write a program to print table of any number"
   ]
  },
  {
   "cell_type": "code",
   "execution_count": 22,
   "id": "bbeaba61",
   "metadata": {},
   "outputs": [
    {
     "name": "stdout",
     "output_type": "stream",
     "text": [
      "Enter number :4\n",
      "4\n",
      "8\n",
      "12\n",
      "16\n",
      "20\n",
      "24\n",
      "28\n",
      "32\n",
      "36\n",
      "40\n"
     ]
    }
   ],
   "source": [
    "num = int(input(\"Enter number :\"))\n",
    "for i in range(1,11):\n",
    "    print(num*i)"
   ]
  },
  {
   "cell_type": "code",
   "execution_count": null,
   "id": "ff1df0a0",
   "metadata": {},
   "outputs": [],
   "source": [
    "Write program\n",
    "accept city from user and display monument of that city\n",
    "City Monument\n",
    "Delhi read fort\n",
    "Agra Taj Mahal\n",
    "Jaipur Jal Mahal"
   ]
  },
  {
   "cell_type": "code",
   "execution_count": 24,
   "id": "d06c9754",
   "metadata": {},
   "outputs": [
    {
     "name": "stdout",
     "output_type": "stream",
     "text": [
      "Enter City Name :Jaipur\n",
      "Jal mahal\n"
     ]
    }
   ],
   "source": [
    "city = input(\"Enter City Name :\")\n",
    "if city==\"Delhi\":\n",
    "    print(\"Read Fort\")\n",
    "elif city==\"Agra\":\n",
    "    print(\"Taj Mahal\")\n",
    "elif city==\"Jaipur\":\n",
    "    print(\"Jal mahal\")"
   ]
  },
  {
   "cell_type": "code",
   "execution_count": null,
   "id": "08aa3a64",
   "metadata": {},
   "outputs": [],
   "source": [
    "Write a program to separe citizen by age "
   ]
  },
  {
   "cell_type": "code",
   "execution_count": 30,
   "id": "d71c1afb",
   "metadata": {},
   "outputs": [
    {
     "name": "stdout",
     "output_type": "stream",
     "text": [
      "Enter Person's Age :26\n",
      "Teeage\n"
     ]
    }
   ],
   "source": [
    "age = int(input(\"Enter Person's Age :\"))\n",
    "if age>=60:\n",
    "    print(\"Senoiur citizen\")\n",
    "elif age>18 and age<60:\n",
    "    print(\"Teeage\")\n",
    "elif age<18:\n",
    "    print(\"Young age\")"
   ]
  },
  {
   "cell_type": "code",
   "execution_count": null,
   "id": "0938f198",
   "metadata": {},
   "outputs": [],
   "source": [
    "Fibonic series\n",
    "1,2,3,5,8,13,21,34"
   ]
  },
  {
   "cell_type": "code",
   "execution_count": 6,
   "id": "1eace816",
   "metadata": {},
   "outputs": [
    {
     "name": "stdout",
     "output_type": "stream",
     "text": [
      "Enter fibono series number8\n",
      "1\n",
      "2\n",
      "3\n",
      "5\n",
      "8\n",
      "13\n",
      "21\n",
      "34\n",
      "\n"
     ]
    }
   ],
   "source": [
    "def fibono(num):\n",
    "    sum=0\n",
    "    a=0\n",
    "    b=1\n",
    "    #print(a)\n",
    "    #print(b)\n",
    "    for i in range(1,num+1):\n",
    "        if num==1:\n",
    "            print(b)\n",
    "        else:\n",
    "            sum=a+b\n",
    "            a=b\n",
    "            b=sum\n",
    "            print(sum)\n",
    "    return \"\"\n",
    "num=int(input(\"Enter fibono series number\"))\n",
    "print(fibono(num))"
   ]
  },
  {
   "cell_type": "code",
   "execution_count": 8,
   "id": "cf65fff9",
   "metadata": {},
   "outputs": [
    {
     "name": "stdout",
     "output_type": "stream",
     "text": [
      "Enter Number45\n",
      "Weird\n",
      "Weird\n",
      "Weird\n"
     ]
    }
   ],
   "source": [
    "n=int(input(\"Enter Number\"))\n",
    "for i in range (2,5):\n",
    "    if n%2==0:\n",
    "        print(\"Not Weird\")\n",
    "    else:\n",
    "        print(\"Weird\")"
   ]
  },
  {
   "cell_type": "code",
   "execution_count": 9,
   "id": "65fd25a4",
   "metadata": {},
   "outputs": [
    {
     "name": "stdout",
     "output_type": "stream",
     "text": [
      "1\n",
      "1.3333333333333333\n"
     ]
    }
   ],
   "source": [
    "a=4\n",
    "b=3\n",
    "print(a//b)\n",
    "print(a/b)"
   ]
  },
  {
   "cell_type": "code",
   "execution_count": 10,
   "id": "60f3080b",
   "metadata": {},
   "outputs": [
    {
     "name": "stdout",
     "output_type": "stream",
     "text": [
      "Enter number456\n",
      "1 \n",
      "\n",
      "2 \n",
      "\n",
      "3 \n",
      "\n",
      "4 \n",
      "\n",
      "5 \n",
      "\n",
      "6 \n",
      "\n",
      "7 \n",
      "\n",
      "8 \n",
      "\n",
      "9 \n",
      "\n",
      "10 \n",
      "\n",
      "11 \n",
      "\n",
      "12 \n",
      "\n",
      "13 \n",
      "\n",
      "14 \n",
      "\n",
      "15 \n",
      "\n",
      "16 \n",
      "\n",
      "17 \n",
      "\n",
      "18 \n",
      "\n",
      "19 \n",
      "\n"
     ]
    }
   ],
   "source": [
    "num=int(input(\"Enter number\"))\n",
    "i=0\n",
    "for i in range (1,20):\n",
    "    print(i,\"\\n\")"
   ]
  },
  {
   "cell_type": "code",
   "execution_count": null,
   "id": "e52a837d",
   "metadata": {},
   "outputs": [],
   "source": []
  }
 ],
 "metadata": {
  "kernelspec": {
   "display_name": "Python 3 (ipykernel)",
   "language": "python",
   "name": "python3"
  },
  "language_info": {
   "codemirror_mode": {
    "name": "ipython",
    "version": 3
   },
   "file_extension": ".py",
   "mimetype": "text/x-python",
   "name": "python",
   "nbconvert_exporter": "python",
   "pygments_lexer": "ipython3",
   "version": "3.9.13"
  }
 },
 "nbformat": 4,
 "nbformat_minor": 5
}
