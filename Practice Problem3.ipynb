{
 "cells": [
  {
   "cell_type": "code",
   "execution_count": null,
   "id": "b8314866",
   "metadata": {},
   "outputs": [],
   "source": [
    "#python program to remove duplicates\n",
    "input aaabbccc\n",
    "output abc"
   ]
  },
  {
   "cell_type": "code",
   "execution_count": 10,
   "id": "a85c3ba9",
   "metadata": {},
   "outputs": [
    {
     "name": "stdout",
     "output_type": "stream",
     "text": [
      "Enter String : aabbcc\n",
      "bac\n"
     ]
    }
   ],
   "source": [
    "x= input(\"Enter String : \")\n",
    "for i in x:\n",
    "    d=(list(set(x)))\n",
    "print(\"\".join(d))"
   ]
  },
  {
   "cell_type": "code",
   "execution_count": 12,
   "id": "2dbca71b",
   "metadata": {},
   "outputs": [
    {
     "name": "stdout",
     "output_type": "stream",
     "text": [
      "Enter String : aabbbcc\n",
      "abc\n"
     ]
    }
   ],
   "source": [
    "x=input(\"Enter String : \")\n",
    "l=[]\n",
    "for i in x:\n",
    "    if i in l:\n",
    "        continue\n",
    "    else:\n",
    "        l.append(i)\n",
    "print(\"\".join(l))"
   ]
  },
  {
   "cell_type": "code",
   "execution_count": null,
   "id": "15ddf368",
   "metadata": {},
   "outputs": [],
   "source": [
    "#python program to interchange value\n",
    "\n",
    "input x=[1,2,3]\n",
    "output x=[3,2,1]"
   ]
  },
  {
   "cell_type": "code",
   "execution_count": 13,
   "id": "09e3575e",
   "metadata": {},
   "outputs": [
    {
     "data": {
      "text/plain": [
       "[3, 2, 1]"
      ]
     },
     "execution_count": 13,
     "metadata": {},
     "output_type": "execute_result"
    }
   ],
   "source": [
    "x=[1,2,3]\n",
    "x[0],x[-1]=x[-1],x[0]\n",
    "x"
   ]
  },
  {
   "cell_type": "code",
   "execution_count": null,
   "id": "bbf3ccf1",
   "metadata": {},
   "outputs": [],
   "source": [
    "# swap two element in list \n",
    "x= [1,4,3,2,5]\n",
    "output = [1,2,3,4,5]"
   ]
  },
  {
   "cell_type": "code",
   "execution_count": 14,
   "id": "d7e0c912",
   "metadata": {},
   "outputs": [
    {
     "data": {
      "text/plain": [
       "[1, 2, 3, 4, 5]"
      ]
     },
     "execution_count": 14,
     "metadata": {},
     "output_type": "execute_result"
    }
   ],
   "source": [
    "x= [1,4,3,2,5]\n",
    "x[1],x[3]=x[3],x[1]\n",
    "x"
   ]
  },
  {
   "cell_type": "code",
   "execution_count": null,
   "id": "6f171b76",
   "metadata": {},
   "outputs": [],
   "source": [
    "x=[10,20,30] and y=[30,40,60,10] if common element from both list then print TRUE otherwise print false"
   ]
  },
  {
   "cell_type": "code",
   "execution_count": 21,
   "id": "aac15620",
   "metadata": {},
   "outputs": [
    {
     "name": "stdout",
     "output_type": "stream",
     "text": [
      "True\n"
     ]
    }
   ],
   "source": [
    "x=[10,20,30]\n",
    "y=[30,40,50,60,10]\n",
    "\n",
    "set1=set(x)\n",
    "set2 = set(y)\n",
    "z= set1.intersection(set2)\n",
    "if len(z)!=0:\n",
    "    print(\"True\")\n",
    "else:\n",
    "    print(\"False\")"
   ]
  },
  {
   "cell_type": "code",
   "execution_count": 28,
   "id": "2d69070d",
   "metadata": {},
   "outputs": [
    {
     "name": "stdout",
     "output_type": "stream",
     "text": [
      "{'t', 'j', 'r', 'a', 'P', 'k'}\n"
     ]
    }
   ],
   "source": [
    "s=\"Prajakta\"\n",
    "print(set(s))"
   ]
  },
  {
   "cell_type": "code",
   "execution_count": null,
   "id": "237533a2",
   "metadata": {},
   "outputs": [],
   "source": [
    "# Anangram Problem ==>\n",
    "   EAR ==> ARE If both strings have same character then string is Anangram string"
   ]
  },
  {
   "cell_type": "code",
   "execution_count": 2,
   "id": "0072809d",
   "metadata": {},
   "outputs": [
    {
     "name": "stdout",
     "output_type": "stream",
     "text": [
      "Enter first String : are\n",
      "Enter second String : ear\n",
      "Anangram String\n"
     ]
    }
   ],
   "source": [
    "x=input(\"Enter first String : \")\n",
    "y=input(\"Enter second String : \")\n",
    "if sorted(x)==sorted(y):\n",
    "    print(\"Anangram String\")\n",
    "else:\n",
    "    print(\"Not Anangram String\")"
   ]
  },
  {
   "cell_type": "code",
   "execution_count": 3,
   "id": "7d6d1140",
   "metadata": {},
   "outputs": [
    {
     "name": "stdout",
     "output_type": "stream",
     "text": [
      "Enter string : adf\n",
      "Enter string : fda\n",
      "Anangram String\n"
     ]
    }
   ],
   "source": [
    "#another way\n",
    "x= set(input(\"Enter string : \"))\n",
    "y= set(input(\"Enter string : \"))\n",
    "z= x.intersection(y)\n",
    "if len(x)==len(y):\n",
    "    print(\"Anangram String\")\n",
    "else:\n",
    "    print(\"Not Anangram String\")"
   ]
  },
  {
   "cell_type": "code",
   "execution_count": null,
   "id": "814c8b94",
   "metadata": {},
   "outputs": [],
   "source": []
  }
 ],
 "metadata": {
  "kernelspec": {
   "display_name": "Python 3 (ipykernel)",
   "language": "python",
   "name": "python3"
  },
  "language_info": {
   "codemirror_mode": {
    "name": "ipython",
    "version": 3
   },
   "file_extension": ".py",
   "mimetype": "text/x-python",
   "name": "python",
   "nbconvert_exporter": "python",
   "pygments_lexer": "ipython3",
   "version": "3.9.13"
  }
 },
 "nbformat": 4,
 "nbformat_minor": 5
}
