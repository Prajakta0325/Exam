{
 "cells": [
  {
   "cell_type": "markdown",
   "id": "d2122483",
   "metadata": {},
   "source": [
    "x=(\"Prajakta\",\"Akshay\",\"Jadhav\")\n",
    "print(type(x))\n",
    "print(x[1])\n",
    "#print(x[3]) error\n",
    "print(x[1][2])"
   ]
  },
  {
   "cell_type": "code",
   "execution_count": 6,
   "id": "dff39b7f",
   "metadata": {},
   "outputs": [],
   "source": [
    "while 1:\n",
    "    print(\"Hello\")"
   ]
  },
  {
   "cell_type": "code",
   "execution_count": 7,
   "id": "128980cd",
   "metadata": {},
   "outputs": [
    {
     "name": "stdout",
     "output_type": "stream",
     "text": [
      "Enter Number :5\n",
      "120\n"
     ]
    }
   ],
   "source": [
    "#factorial program using for loop\n",
    "\n",
    "num=int(input(\"Enter Number :\"))\n",
    "fact=1\n",
    "for i in range(1,num+1):\n",
    "    fact=fact*i\n",
    "print(fact)"
   ]
  },
  {
   "cell_type": "code",
   "execution_count": 9,
   "id": "d2d5ba1a",
   "metadata": {},
   "outputs": [
    {
     "name": "stdout",
     "output_type": "stream",
     "text": [
      "Enter Number :5\n",
      "120\n"
     ]
    }
   ],
   "source": [
    "#factorial program using while loop\n",
    "\n",
    "num=int(input(\"Enter Number :\"))\n",
    "fact=1\n",
    "i=1\n",
    "while i<num+1:\n",
    "    fact=fact*i\n",
    "    i=i+1\n",
    "print(fact)"
   ]
  },
  {
   "cell_type": "code",
   "execution_count": 11,
   "id": "0ca2df62",
   "metadata": {},
   "outputs": [
    {
     "name": "stdout",
     "output_type": "stream",
     "text": [
      "Enter Number :10\n",
      "55\n"
     ]
    }
   ],
   "source": [
    "#find sum of n natural number using for loop\n",
    "\n",
    "num=int(input(\"Enter Number :\"))\n",
    "sum=0\n",
    "for i in range(1,num+1):\n",
    "    sum=sum+i\n",
    "print(sum)"
   ]
  },
  {
   "cell_type": "code",
   "execution_count": 13,
   "id": "66d0a4e9",
   "metadata": {},
   "outputs": [
    {
     "name": "stdout",
     "output_type": "stream",
     "text": [
      "Enter Number :10\n",
      "55\n"
     ]
    }
   ],
   "source": [
    "# fin sum of n natural number using while loop\n",
    "\n",
    "num=int(input(\"Enter Number :\"))\n",
    "sum=0\n",
    "i=1\n",
    "while i<=num:\n",
    "    sum=sum+i\n",
    "    i+=1\n",
    "print(sum)"
   ]
  },
  {
   "cell_type": "code",
   "execution_count": 3,
   "id": "ed1b4a35",
   "metadata": {},
   "outputs": [
    {
     "name": "stdout",
     "output_type": "stream",
     "text": [
      "Enter Number8\n",
      "Not Weird\n"
     ]
    }
   ],
   "source": [
    "n=int(input(\"Enter Number\"))\n",
    "if n%2!=0:\n",
    "    print(\"Weird\")\n",
    "elif range(2,6) and n%2==0:\n",
    "    print(\"Not Weird\")\n",
    "elif range(6,21)and n%2==0:\n",
    "    print(\"Weird\")\n",
    "elif n%2==0 and n>20:\n",
    "    print(\"Not Weird\")\n",
    "else:\n",
    "    print(\"Enter valid number\")"
   ]
  },
  {
   "cell_type": "code",
   "execution_count": 5,
   "id": "6cc14dfd",
   "metadata": {},
   "outputs": [
    {
     "name": "stdout",
     "output_type": "stream",
     "text": [
      "1\n",
      "2\n",
      "3\n",
      "5\n",
      "6\n",
      "7\n",
      "8\n",
      "9\n"
     ]
    }
   ],
   "source": [
    "for i in range(1,10):\n",
    "    if i==4: #skip 4 value\n",
    "        continue\n",
    "    print(i)"
   ]
  },
  {
   "cell_type": "code",
   "execution_count": 6,
   "id": "937926d5",
   "metadata": {},
   "outputs": [
    {
     "name": "stdout",
     "output_type": "stream",
     "text": [
      "1\n",
      "2\n",
      "3\n"
     ]
    }
   ],
   "source": [
    "for i in range(1,10):\n",
    "    if i==4: #stop loop\n",
    "        break\n",
    "    print(i)"
   ]
  },
  {
   "cell_type": "markdown",
   "id": "e51d589c",
   "metadata": {},
   "source": [
    "# Function"
   ]
  },
  {
   "cell_type": "code",
   "execution_count": 2,
   "id": "4b5d317f",
   "metadata": {},
   "outputs": [
    {
     "name": "stdout",
     "output_type": "stream",
     "text": [
      "(30, -10, 200)\n"
     ]
    }
   ],
   "source": [
    "def calculator(a,b):\n",
    "    add=a+b\n",
    "    sub=a-b\n",
    "    mul=a*b\n",
    "    return add,sub,mul\n",
    "\n",
    "x=calculator(10,20)\n",
    "print(x)"
   ]
  },
  {
   "cell_type": "code",
   "execution_count": null,
   "id": "f6603026",
   "metadata": {},
   "outputs": [],
   "source": [
    "#find ascii value"
   ]
  },
  {
   "cell_type": "code",
   "execution_count": 4,
   "id": "03b35b7d",
   "metadata": {},
   "outputs": [
    {
     "name": "stdout",
     "output_type": "stream",
     "text": [
      "Enter String:Prajakta\n",
      "80114971069710711697"
     ]
    }
   ],
   "source": [
    "s=input(\"Enter String:\")\n",
    "for i in s:\n",
    "    print(ord(i), end=\"\")"
   ]
  },
  {
   "cell_type": "code",
   "execution_count": 9,
   "id": "ebb602e4",
   "metadata": {},
   "outputs": [
    {
     "name": "stdout",
     "output_type": "stream",
     "text": [
      "Enter String :hello\n",
      "104 101 108 108 111 \n"
     ]
    }
   ],
   "source": [
    "def value(s):\n",
    "    for i in s:\n",
    "        print(ord(i), end=\" \")\n",
    "    return \"\"\n",
    "s=input(\"Enter String :\")\n",
    "print(value(s))"
   ]
  },
  {
   "cell_type": "markdown",
   "id": "47e1ec25",
   "metadata": {},
   "source": [
    "# File Handeling"
   ]
  },
  {
   "cell_type": "code",
   "execution_count": 4,
   "id": "32208b96",
   "metadata": {},
   "outputs": [
    {
     "name": "stdout",
     "output_type": "stream",
     "text": [
      "Please Check File...\n"
     ]
    }
   ],
   "source": [
    "f=open(\"Examdata.txt\",\"w\")\n",
    "f.write(\"Hello\\n\")\n",
    "f.write(\"Prajakta\\n\")\n",
    "l=[\"Akshay\\n\",\"Dhumal\"]\n",
    "f.writelines(l)\n",
    "print(\"Please Check File...\")\n",
    "f.close()"
   ]
  },
  {
   "cell_type": "code",
   "execution_count": 19,
   "id": "99aa817d",
   "metadata": {},
   "outputs": [
    {
     "name": "stdout",
     "output_type": "stream",
     "text": [
      "Hel\n",
      "lo\n",
      "\n",
      "['Prajakta\\n', 'Akshay\\n', 'Dhumal']\n"
     ]
    }
   ],
   "source": [
    "f=open(\"Examdata.txt\",\"r\")\n",
    "#print(f.read()) read all data from file\n",
    "\n",
    "print(f.read(3)) \n",
    "print(f.readline())\n",
    "print(f.readlines())\n",
    "f.close()"
   ]
  },
  {
   "cell_type": "code",
   "execution_count": null,
   "id": "ad17e117",
   "metadata": {},
   "outputs": [],
   "source": [
    "Note==> \\n is consider as single character\n",
    "space is also consider"
   ]
  },
  {
   "cell_type": "code",
   "execution_count": 3,
   "id": "2e1b27cd",
   "metadata": {},
   "outputs": [
    {
     "name": "stdout",
     "output_type": "stream",
     "text": [
      "3\n"
     ]
    }
   ],
   "source": [
    "s='hello'\n",
    "c=0\n",
    "for i in s:\n",
    "    if(i!='l'):\n",
    "        c=c+1\n",
    "print(c)"
   ]
  },
  {
   "cell_type": "code",
   "execution_count": 4,
   "id": "535a9ef5",
   "metadata": {},
   "outputs": [
    {
     "name": "stdout",
     "output_type": "stream",
     "text": [
      "j\n",
      "h\n",
      "o\n",
      "n\n"
     ]
    }
   ],
   "source": [
    "s='jhon'\n",
    "for i in s:\n",
    "    if i=='o':\n",
    "        pass\n",
    "    print(i)"
   ]
  },
  {
   "cell_type": "code",
   "execution_count": 5,
   "id": "19103548",
   "metadata": {},
   "outputs": [
    {
     "name": "stdout",
     "output_type": "stream",
     "text": [
      "-2-3-4"
     ]
    }
   ],
   "source": [
    "for j in range(-2,-5,-1):\n",
    "    print(j,end=\"\")"
   ]
  },
  {
   "cell_type": "code",
   "execution_count": 6,
   "id": "418dec54",
   "metadata": {},
   "outputs": [
    {
     "name": "stdout",
     "output_type": "stream",
     "text": [
      "100\n"
     ]
    }
   ],
   "source": [
    "x=0\n",
    "while(x<100):\n",
    "    x=x+2\n",
    "print(x)"
   ]
  },
  {
   "cell_type": "code",
   "execution_count": 7,
   "id": "25c9c0a7",
   "metadata": {},
   "outputs": [
    {
     "name": "stdout",
     "output_type": "stream",
     "text": [
      "w\n"
     ]
    }
   ],
   "source": [
    "s=7\n",
    "if s>5:\n",
    "    print(\"w\")\n",
    "if s>8:\n",
    "    print('q')"
   ]
  },
  {
   "cell_type": "code",
   "execution_count": 8,
   "id": "2182ce3a",
   "metadata": {},
   "outputs": [
    {
     "name": "stdout",
     "output_type": "stream",
     "text": [
      "21\n"
     ]
    }
   ],
   "source": [
    "var=10\n",
    "for i in range(10):\n",
    "    for j in range(2,10,1):\n",
    "        if var%2==0:\n",
    "            continue\n",
    "            var+=1\n",
    "    var+=1\n",
    "else:\n",
    "    var+=1\n",
    "    print(var)"
   ]
  },
  {
   "cell_type": "code",
   "execution_count": 9,
   "id": "20bee96b",
   "metadata": {},
   "outputs": [
    {
     "name": "stdout",
     "output_type": "stream",
     "text": [
      "10\n",
      "11\n",
      "12\n",
      "13\n"
     ]
    }
   ],
   "source": [
    "for num in range(10,14):\n",
    "    for i in range(2,num):\n",
    "        if num%i==1:\n",
    "            print(num)\n",
    "            break"
   ]
  },
  {
   "cell_type": "code",
   "execution_count": 11,
   "id": "d18496b2",
   "metadata": {},
   "outputs": [
    {
     "data": {
      "text/plain": [
       "'nohtyP'"
      ]
     },
     "execution_count": 11,
     "metadata": {},
     "output_type": "execute_result"
    }
   ],
   "source": [
    "def swap_case(s):\n",
    "    return s[::-1]\n",
    "swap_case(\"Python\")"
   ]
  },
  {
   "cell_type": "code",
   "execution_count": 6,
   "id": "d796fcf5",
   "metadata": {},
   "outputs": [
    {
     "name": "stdout",
     "output_type": "stream",
     "text": [
      "100\n"
     ]
    }
   ],
   "source": [
    "def f1():\n",
    "    x=100\n",
    "    print(x)\n",
    "x=+1\n",
    "f1()"
   ]
  },
  {
   "cell_type": "code",
   "execution_count": 13,
   "id": "d688921d",
   "metadata": {},
   "outputs": [
    {
     "name": "stdout",
     "output_type": "stream",
     "text": [
      "x\n"
     ]
    }
   ],
   "source": [
    "def f1():\n",
    "    global x\n",
    "    x=+1\n",
    "    print(x)\n",
    "x=12\n",
    "print(\"x\")"
   ]
  },
  {
   "cell_type": "code",
   "execution_count": 14,
   "id": "ccbffda0",
   "metadata": {},
   "outputs": [
    {
     "name": "stdout",
     "output_type": "stream",
     "text": [
      "[3, 4, 2]\n"
     ]
    }
   ],
   "source": [
    "def f1(a,b=[]):\n",
    "    b.append(a)\n",
    "    return b\n",
    "print(f1(2,[3,4]))"
   ]
  },
  {
   "cell_type": "code",
   "execution_count": 24,
   "id": "cf03ff4a",
   "metadata": {},
   "outputs": [
    {
     "name": "stdout",
     "output_type": "stream",
     "text": [
      "10 20 30 40\n"
     ]
    }
   ],
   "source": [
    "def f1(p,q,r):\n",
    "    global s\n",
    "    p=10\n",
    "    q=20\n",
    "    r=30\n",
    "    s=40\n",
    "    print(p,q,r,s)\n",
    "p,q,r,s=1,2,3,4\n",
    "f1(5,10,25)"
   ]
  },
  {
   "cell_type": "code",
   "execution_count": 19,
   "id": "5f10520e",
   "metadata": {},
   "outputs": [
    {
     "name": "stdout",
     "output_type": "stream",
     "text": [
      "outer\n"
     ]
    },
    {
     "ename": "NameError",
     "evalue": "name 'f2' is not defined",
     "output_type": "error",
     "traceback": [
      "\u001b[1;31m---------------------------------------------------------------------------\u001b[0m",
      "\u001b[1;31mNameError\u001b[0m                                 Traceback (most recent call last)",
      "\u001b[1;32m~\\AppData\\Local\\Temp\\ipykernel_1152\\1467235743.py\u001b[0m in \u001b[0;36m<module>\u001b[1;34m\u001b[0m\n\u001b[0;32m      5\u001b[0m         \u001b[0mprint\u001b[0m\u001b[1;33m(\u001b[0m\u001b[0ma\u001b[0m\u001b[1;33m,\u001b[0m\u001b[0mx\u001b[0m\u001b[1;33m)\u001b[0m\u001b[1;33m\u001b[0m\u001b[1;33m\u001b[0m\u001b[0m\n\u001b[0;32m      6\u001b[0m \u001b[0mf\u001b[0m\u001b[1;33m(\u001b[0m\u001b[1;36m3\u001b[0m\u001b[1;33m)\u001b[0m\u001b[1;33m\u001b[0m\u001b[1;33m\u001b[0m\u001b[0m\n\u001b[1;32m----> 7\u001b[1;33m \u001b[0mf2\u001b[0m\u001b[1;33m(\u001b[0m\u001b[1;36m1\u001b[0m\u001b[1;33m)\u001b[0m\u001b[1;33m\u001b[0m\u001b[1;33m\u001b[0m\u001b[0m\n\u001b[0m",
      "\u001b[1;31mNameError\u001b[0m: name 'f2' is not defined"
     ]
    }
   ],
   "source": [
    "def f(x):\n",
    "    print(\"outer\")\n",
    "    def f2(a):\n",
    "        print(\"inner\")\n",
    "        print(a,x)\n",
    "f(3)\n",
    "f2(1)"
   ]
  },
  {
   "cell_type": "code",
   "execution_count": 22,
   "id": "7cd1eadc",
   "metadata": {},
   "outputs": [
    {
     "name": "stdout",
     "output_type": "stream",
     "text": [
      "Odd\n"
     ]
    }
   ],
   "source": [
    "def even_odd(**check):\n",
    "    if check['iseven']%2==0:\n",
    "        print('even')\n",
    "    else:\n",
    "        print('Odd')\n",
    "even_odd(iseven=3)"
   ]
  },
  {
   "cell_type": "code",
   "execution_count": 2,
   "id": "63028a57",
   "metadata": {},
   "outputs": [
    {
     "name": "stdout",
     "output_type": "stream",
     "text": [
      "4\n"
     ]
    }
   ],
   "source": [
    "fun=lambda x: x+2\n",
    "print(fun(2))"
   ]
  },
  {
   "cell_type": "code",
   "execution_count": 7,
   "id": "569dbcf6",
   "metadata": {},
   "outputs": [
    {
     "data": {
      "text/plain": [
       "[1, 2, 3]"
      ]
     },
     "execution_count": 7,
     "metadata": {},
     "output_type": "execute_result"
    }
   ],
   "source": [
    "num=[1,2,3]\n",
    "a=list(filter(lambda x:2,num)) #boolean value of \"2\" is true so ans is true and return original list\n",
    "a"
   ]
  },
  {
   "cell_type": "code",
   "execution_count": 8,
   "id": "1029159b",
   "metadata": {},
   "outputs": [
    {
     "name": "stdout",
     "output_type": "stream",
     "text": [
      "8\n"
     ]
    }
   ],
   "source": [
    "add_one=lambda x: x+1\n",
    "print(add_one(7))"
   ]
  },
  {
   "cell_type": "code",
   "execution_count": 10,
   "id": "b2f14a92",
   "metadata": {},
   "outputs": [
    {
     "name": "stdout",
     "output_type": "stream",
     "text": [
      "['beach is fun', 'car is fun']\n"
     ]
    }
   ],
   "source": [
    "l=[\"beach\",\"car\"]\n",
    "field=list(map(lambda l:f\"{l} is fun\",l))\n",
    "print(field)"
   ]
  },
  {
   "cell_type": "code",
   "execution_count": 5,
   "id": "26526ccf",
   "metadata": {},
   "outputs": [
    {
     "name": "stdout",
     "output_type": "stream",
     "text": [
      "0\n",
      "1\n",
      "1\n",
      "2\n",
      "3\n",
      "\n"
     ]
    }
   ],
   "source": [
    "def fibonacci(num):\n",
    "    # return a list of fibonacci\n",
    "    a=0\n",
    "    b=1\n",
    "    print(a)\n",
    "    print(b)\n",
    "    sum=0\n",
    "    for i in range(2,num):\n",
    "        if num==1:\n",
    "            print(a)\n",
    "        else:\n",
    "            sum=a+b\n",
    "            a=b\n",
    "            b=sum\n",
    "            print(sum)\n",
    "    return \"\"\n",
    "print(fibonacci(5))"
   ]
  },
  {
   "cell_type": "code",
   "execution_count": 38,
   "id": "48d8fb68",
   "metadata": {},
   "outputs": [
    {
     "name": "stdout",
     "output_type": "stream",
     "text": [
      "Enter the number for fibonacci sequence: 5\n",
      "0\n",
      "1\n",
      "1\n",
      "2\n",
      "3\n",
      "5\n",
      "8\n"
     ]
    }
   ],
   "source": [
    "num= int(input(\"Enter the number for fibonacci sequence: \"))\n",
    "a=0\n",
    "b=1\n",
    "print(a)\n",
    "print(b)\n",
    "sum=0\n",
    "\n",
    "for i in range (1,num+1):\n",
    "    if num==1:\n",
    "        print(a)\n",
    "    else:\n",
    "        sum=a+b\n",
    "        a=b\n",
    "        b=sum\n",
    "        print(sum)"
   ]
  },
  {
   "cell_type": "code",
   "execution_count": 43,
   "id": "92ec5ab3",
   "metadata": {},
   "outputs": [
    {
     "name": "stdout",
     "output_type": "stream",
     "text": [
      "[0, 1, 1, 2, 3]\n"
     ]
    }
   ],
   "source": [
    "l=[0,1]\n",
    "n=5\n",
    "for i in range (2,n):\n",
    "    if n==1:\n",
    "        print(l)\n",
    "    else:\n",
    "        l.append(l[i-1]+l[i-2])\n",
    "print(l)"
   ]
  },
  {
   "cell_type": "code",
   "execution_count": 3,
   "id": "38d13919",
   "metadata": {},
   "outputs": [
    {
     "name": "stdout",
     "output_type": "stream",
     "text": [
      "10 20 30 40\n",
      "[10, 20, 30, 40]\n"
     ]
    }
   ],
   "source": [
    "list1=[int(i) for i in input().split()]\n",
    "print(list1)"
   ]
  },
  {
   "cell_type": "code",
   "execution_count": 4,
   "id": "fc1f8c16",
   "metadata": {},
   "outputs": [
    {
     "name": "stdout",
     "output_type": "stream",
     "text": [
      "[1, 2, 3, 4, 5, 6, 7, 8, 9, 10]\n"
     ]
    }
   ],
   "source": [
    "l1=[i for i in range(1,11)]\n",
    "print(l1)"
   ]
  },
  {
   "cell_type": "code",
   "execution_count": 5,
   "id": "b349415b",
   "metadata": {},
   "outputs": [
    {
     "name": "stdout",
     "output_type": "stream",
     "text": [
      "[2, 4, 6, 8, 10]\n"
     ]
    }
   ],
   "source": [
    "l1=[i for i in range(1,11) if i%2==0]\n",
    "print(l1)"
   ]
  },
  {
   "cell_type": "code",
   "execution_count": 8,
   "id": "e0f998cd",
   "metadata": {},
   "outputs": [
    {
     "name": "stdout",
     "output_type": "stream",
     "text": [
      "P\n",
      "r\n",
      "j\n",
      "k\n",
      "t\n"
     ]
    }
   ],
   "source": [
    "my_string=\"Prajakta\"\n",
    "k=[print(i) for i in my_string if i not in \"aeiou\"]\n",
    "#print(k)"
   ]
  },
  {
   "cell_type": "code",
   "execution_count": 10,
   "id": "3f546876",
   "metadata": {},
   "outputs": [
    {
     "name": "stdout",
     "output_type": "stream",
     "text": [
      "[('H', 1), ('E', 1), ('L', 1), ('L', 1), ('O', 1), (' ', 1), ('W', 1), ('O', 1), ('R', 1), ('L', 1), ('D', 1)]\n"
     ]
    }
   ],
   "source": [
    "my_string=\"hello world\"\n",
    "k=[(i.upper(),len(i)) for i in my_string]\n",
    "print(k)"
   ]
  },
  {
   "cell_type": "code",
   "execution_count": 15,
   "id": "43def994",
   "metadata": {},
   "outputs": [
    {
     "name": "stdout",
     "output_type": "stream",
     "text": [
      "[0, 1, 2]\n"
     ]
    }
   ],
   "source": [
    "x=[i**+1 for i in range(3)];print(x);"
   ]
  },
  {
   "cell_type": "code",
   "execution_count": 17,
   "id": "dda5455a",
   "metadata": {},
   "outputs": [
    {
     "name": "stdout",
     "output_type": "stream",
     "text": [
      "['h', 'e', 'l', 'l', 'o']\n"
     ]
    }
   ],
   "source": [
    "print([i.lower() for i in \"hello\"])"
   ]
  },
  {
   "cell_type": "code",
   "execution_count": 19,
   "id": "2430f9eb",
   "metadata": {},
   "outputs": [
    {
     "data": {
      "text/plain": [
       "[4, 5, 6, 8, 10, 12, 12, 15, 18]"
      ]
     },
     "execution_count": 19,
     "metadata": {},
     "output_type": "execute_result"
    }
   ],
   "source": [
    "l1=[1,2,3]\n",
    "l2=[4,5,6]\n",
    "([x*y for x in l1 for y in l2])"
   ]
  },
  {
   "cell_type": "code",
   "execution_count": 20,
   "id": "a71c49fb",
   "metadata": {},
   "outputs": [
    {
     "name": "stdout",
     "output_type": "stream",
     "text": [
      "[-2, -4, -5]\n"
     ]
    }
   ],
   "source": [
    "l=[1,2,-2,-4,-5,0]\n",
    "l1=[x for x in l if x<0]\n",
    "print(l1)"
   ]
  },
  {
   "cell_type": "code",
   "execution_count": 21,
   "id": "27691a94",
   "metadata": {},
   "outputs": [
    {
     "name": "stdout",
     "output_type": "stream",
     "text": [
      "[('PUNE', 4), ('MUMBAI', 6), ('DELHI', 5)]\n"
     ]
    }
   ],
   "source": [
    "s=[\"pune\",\"mumbai\",\"delhi\"]\n",
    "print([(w.upper(),len(w)) for w in s])"
   ]
  },
  {
   "cell_type": "code",
   "execution_count": 24,
   "id": "ef539604",
   "metadata": {},
   "outputs": [
    {
     "data": {
      "text/plain": [
       "0.3333333333333333"
      ]
     },
     "execution_count": 24,
     "metadata": {},
     "output_type": "execute_result"
    }
   ],
   "source": [
    "1/3"
   ]
  },
  {
   "cell_type": "code",
   "execution_count": 26,
   "id": "d5636d49",
   "metadata": {},
   "outputs": [
    {
     "ename": "SyntaxError",
     "evalue": "invalid syntax (830627145.py, line 1)",
     "output_type": "error",
     "traceback": [
      "\u001b[1;36m  File \u001b[1;32m\"C:\\Users\\91708\\AppData\\Local\\Temp\\ipykernel_11256\\830627145.py\"\u001b[1;36m, line \u001b[1;32m1\u001b[0m\n\u001b[1;33m    print([if i%2==0: i; else:i+1; for i in range(4)])\u001b[0m\n\u001b[1;37m           ^\u001b[0m\n\u001b[1;31mSyntaxError\u001b[0m\u001b[1;31m:\u001b[0m invalid syntax\n"
     ]
    }
   ],
   "source": [
    "print([if i%2==0: i; else:i+1; for i in range(4)])"
   ]
  },
  {
   "cell_type": "code",
   "execution_count": 33,
   "id": "92bb583e",
   "metadata": {},
   "outputs": [
    {
     "name": "stdout",
     "output_type": "stream",
     "text": [
      "data added\n"
     ]
    }
   ],
   "source": [
    "f=open(\"abc.txt\",\"w\")\n",
    "list=[\"p\",\"r\",\"j\"]\n",
    "f.writelines(list)\n",
    "print(\"data added\")\n",
    "f.close()"
   ]
  },
  {
   "cell_type": "code",
   "execution_count": 39,
   "id": "37dc7093",
   "metadata": {},
   "outputs": [
    {
     "name": "stdout",
     "output_type": "stream",
     "text": [
      "[1, 2, 3]\n"
     ]
    }
   ],
   "source": [
    "l=[1,2,3,\"Hello\"]\n",
    "#l.append(5)\n",
    "#l.insert(3,5)\n",
    "l.remove(\"Hello\")\n",
    "print(l)"
   ]
  },
  {
   "cell_type": "code",
   "execution_count": 41,
   "id": "94f35d79",
   "metadata": {},
   "outputs": [
    {
     "name": "stdout",
     "output_type": "stream",
     "text": [
      "1\n"
     ]
    }
   ],
   "source": [
    "l=[\"Hello\",\"p\"]\n",
    "if \"hello\" in l:\n",
    "    print(1)\n",
    "else:\n",
    "    print(2)"
   ]
  },
  {
   "cell_type": "code",
   "execution_count": 44,
   "id": "5b9a8626",
   "metadata": {},
   "outputs": [
    {
     "name": "stdout",
     "output_type": "stream",
     "text": [
      "[1, 2, 3, 1, 2, 3]\n"
     ]
    }
   ],
   "source": [
    "l=[1,2,3]\n",
    "print(l*2)"
   ]
  },
  {
   "cell_type": "code",
   "execution_count": 49,
   "id": "eb1697dc",
   "metadata": {},
   "outputs": [
    {
     "data": {
      "text/plain": [
       "5"
      ]
     },
     "execution_count": 49,
     "metadata": {},
     "output_type": "execute_result"
    }
   ],
   "source": [
    "e=\"helloe\"\n",
    "e.rfind(\"e\")"
   ]
  },
  {
   "cell_type": "code",
   "execution_count": 50,
   "id": "c4856abb",
   "metadata": {},
   "outputs": [
    {
     "ename": "TypeError",
     "evalue": "can only concatenate str (not \"int\") to str",
     "output_type": "error",
     "traceback": [
      "\u001b[1;31m---------------------------------------------------------------------------\u001b[0m",
      "\u001b[1;31mTypeError\u001b[0m                                 Traceback (most recent call last)",
      "\u001b[1;32m~\\AppData\\Local\\Temp\\ipykernel_11256\\2381731350.py\u001b[0m in \u001b[0;36m<module>\u001b[1;34m\u001b[0m\n\u001b[1;32m----> 1\u001b[1;33m \u001b[0mprint\u001b[0m\u001b[1;33m(\u001b[0m\u001b[1;34m\"hello\"\u001b[0m\u001b[1;33m+\u001b[0m\u001b[1;36m1\u001b[0m\u001b[1;33m+\u001b[0m\u001b[1;36m2\u001b[0m\u001b[1;33m)\u001b[0m\u001b[1;33m\u001b[0m\u001b[1;33m\u001b[0m\u001b[0m\n\u001b[0m",
      "\u001b[1;31mTypeError\u001b[0m: can only concatenate str (not \"int\") to str"
     ]
    }
   ],
   "source": [
    "print(\"hello\"+1+2)"
   ]
  },
  {
   "cell_type": "code",
   "execution_count": 1,
   "id": "a0f4dfc3",
   "metadata": {},
   "outputs": [
    {
     "name": "stdout",
     "output_type": "stream",
     "text": [
      "__main__\n"
     ]
    }
   ],
   "source": [
    "class demo:\n",
    "    def __init__(self):\n",
    "        pass\n",
    "    def test(self):\n",
    "        print(__name__)\n",
    "obj=demo()\n",
    "obj.test()"
   ]
  },
  {
   "cell_type": "code",
   "execution_count": 6,
   "id": "89c9c5e9",
   "metadata": {},
   "outputs": [],
   "source": [
    "class A:\n",
    "    def __init__(self,b):\n",
    "        self.b=b\n",
    "    def display(self):\n",
    "        print(self.b)\n",
    "obj=A(\"Hello\")\n",
    "del obj"
   ]
  },
  {
   "cell_type": "code",
   "execution_count": 8,
   "id": "05e9a37b",
   "metadata": {},
   "outputs": [
    {
     "name": "stdout",
     "output_type": "stream",
     "text": [
      "DogAnimal"
     ]
    }
   ],
   "source": [
    "class animal:\n",
    "    def __init__(self,name):\n",
    "        print(\"Animal\",end=\"\")\n",
    "        self.name=name\n",
    "class Dog(animal):\n",
    "    def __init__(self,name,age):\n",
    "        print(\"Dog\",end=\"\")\n",
    "        super().__init__(name)\n",
    "        self.age=age\n",
    "yk=Dog(\"ABN\",24)"
   ]
  },
  {
   "cell_type": "code",
   "execution_count": 6,
   "id": "1ed5ecf2",
   "metadata": {},
   "outputs": [
    {
     "name": "stdout",
     "output_type": "stream",
     "text": [
      "20\n"
     ]
    }
   ],
   "source": [
    "class test:\n",
    "    def __init__(self,a):\n",
    "        self.a=a\n",
    "    def display(self):\n",
    "        print(self.a)\n",
    "obj=test(20)\n",
    "obj.display()"
   ]
  },
  {
   "cell_type": "code",
   "execution_count": 10,
   "id": "61c3ab10",
   "metadata": {},
   "outputs": [
    {
     "name": "stdout",
     "output_type": "stream",
     "text": [
      "13\n"
     ]
    }
   ],
   "source": [
    "class fruits:\n",
    "    def __init__(self,price):\n",
    "        self.price=price\n",
    "obj=fruits(50)\n",
    "obj.quantity=10\n",
    "obj.bags=2\n",
    "\n",
    "print(obj.quantity+len(obj.__dict__))"
   ]
  },
  {
   "cell_type": "code",
   "execution_count": 11,
   "id": "2f3aa2f5",
   "metadata": {},
   "outputs": [],
   "source": [
    "class A:\n",
    "    def __init_(self):\n",
    "        return \"1\"\n",
    "obj=A()"
   ]
  },
  {
   "cell_type": "code",
   "execution_count": 2,
   "id": "560c0b27",
   "metadata": {},
   "outputs": [
    {
     "name": "stdout",
     "output_type": "stream",
     "text": [
      "{2: 1, 1: [2, 3, 4]}\n"
     ]
    }
   ],
   "source": [
    "a={}\n",
    "a[2]=1\n",
    "a[1]=[2,3,4]\n",
    "print(a)"
   ]
  },
  {
   "cell_type": "code",
   "execution_count": 3,
   "id": "8dcab448",
   "metadata": {},
   "outputs": [
    {
     "data": {
      "text/plain": [
       "['A', 'B', 'C']"
      ]
     },
     "execution_count": 3,
     "metadata": {},
     "output_type": "execute_result"
    }
   ],
   "source": [
    "a={\"B\":3,\"A\":5,\"C\":2}\n",
    "sorted(a)"
   ]
  },
  {
   "cell_type": "code",
   "execution_count": 4,
   "id": "7fe54bdb",
   "metadata": {},
   "outputs": [
    {
     "data": {
      "text/plain": [
       "True"
      ]
     },
     "execution_count": 4,
     "metadata": {},
     "output_type": "execute_result"
    }
   ],
   "source": [
    "b={}\n",
    "all(b)"
   ]
  },
  {
   "cell_type": "code",
   "execution_count": 10,
   "id": "c412bc6c",
   "metadata": {},
   "outputs": [
    {
     "data": {
      "text/plain": [
       "True"
      ]
     },
     "execution_count": 10,
     "metadata": {},
     "output_type": "execute_result"
    }
   ],
   "source": [
    "b={\"A\":2,\"b\":1}\n",
    "any(b)"
   ]
  },
  {
   "cell_type": "code",
   "execution_count": null,
   "id": "4aef64e6",
   "metadata": {},
   "outputs": [],
   "source": []
  },
  {
   "cell_type": "code",
   "execution_count": 3,
   "id": "3126773d",
   "metadata": {},
   "outputs": [
    {
     "name": "stdout",
     "output_type": "stream",
     "text": [
      "BSC\n",
      "MCS\n"
     ]
    }
   ],
   "source": [
    "class abc:\n",
    "    def study(self):\n",
    "        print(\"BSC\")\n",
    "class child(abc):\n",
    "    def study(self):\n",
    "        super().study()\n",
    "        print(\"MCS\")\n",
    "        \n",
    "x=child()\n",
    "x.study()"
   ]
  },
  {
   "cell_type": "code",
   "execution_count": 6,
   "id": "e93c9ee7",
   "metadata": {},
   "outputs": [
    {
     "name": "stdout",
     "output_type": "stream",
     "text": [
      "Parent class Constructor\n",
      "Child Class Constructor\n"
     ]
    }
   ],
   "source": [
    "# constructor overriding\n",
    "\n",
    "class abc:\n",
    "    def __init__(self):\n",
    "        print(\"Parent class Constructor\")\n",
    "class child(abc):\n",
    "    def __init__(self):\n",
    "        super().__init__()\n",
    "        print(\"Child Class Constructor\")\n",
    "        \n",
    "x=child()"
   ]
  },
  {
   "cell_type": "markdown",
   "id": "c6a852ae",
   "metadata": {},
   "source": [
    "##### ========================================================================================================================"
   ]
  },
  {
   "cell_type": "code",
   "execution_count": 3,
   "id": "57ac365c",
   "metadata": {},
   "outputs": [
    {
     "name": "stdout",
     "output_type": "stream",
     "text": [
      "<class 'float'>\n"
     ]
    }
   ],
   "source": [
    "x = \"10.5\"\n",
    "y= float(x)\n",
    "print(type(y))"
   ]
  },
  {
   "cell_type": "code",
   "execution_count": 4,
   "id": "eb282f99",
   "metadata": {},
   "outputs": [
    {
     "ename": "ValueError",
     "evalue": "invalid literal for int() with base 10: 'abs'",
     "output_type": "error",
     "traceback": [
      "\u001b[1;31m---------------------------------------------------------------------------\u001b[0m",
      "\u001b[1;31mValueError\u001b[0m                                Traceback (most recent call last)",
      "\u001b[1;32m~\\AppData\\Local\\Temp\\ipykernel_18764\\3413139989.py\u001b[0m in \u001b[0;36m<module>\u001b[1;34m\u001b[0m\n\u001b[0;32m      1\u001b[0m \u001b[0mx\u001b[0m\u001b[1;33m=\u001b[0m \u001b[1;34m\"abs\"\u001b[0m\u001b[1;33m\u001b[0m\u001b[1;33m\u001b[0m\u001b[0m\n\u001b[1;32m----> 2\u001b[1;33m \u001b[0my\u001b[0m \u001b[1;33m=\u001b[0m \u001b[0mint\u001b[0m\u001b[1;33m(\u001b[0m\u001b[0mx\u001b[0m\u001b[1;33m)\u001b[0m\u001b[1;33m\u001b[0m\u001b[1;33m\u001b[0m\u001b[0m\n\u001b[0m\u001b[0;32m      3\u001b[0m \u001b[0mprint\u001b[0m\u001b[1;33m(\u001b[0m\u001b[0mtype\u001b[0m\u001b[1;33m(\u001b[0m\u001b[0my\u001b[0m\u001b[1;33m)\u001b[0m\u001b[1;33m)\u001b[0m\u001b[1;33m\u001b[0m\u001b[1;33m\u001b[0m\u001b[0m\n",
      "\u001b[1;31mValueError\u001b[0m: invalid literal for int() with base 10: 'abs'"
     ]
    }
   ],
   "source": [
    "x= \"abs\"\n",
    "y = int(x)\n",
    "print(type(y))"
   ]
  },
  {
   "cell_type": "code",
   "execution_count": 6,
   "id": "8b386410",
   "metadata": {},
   "outputs": [
    {
     "name": "stdout",
     "output_type": "stream",
     "text": [
      "<class 'float'>\n",
      "10.0\n"
     ]
    }
   ],
   "source": [
    "x= \"10\"\n",
    "y = float(x)\n",
    "print(type(y))\n",
    "print(y)"
   ]
  },
  {
   "cell_type": "code",
   "execution_count": 7,
   "id": "6fd9cf88",
   "metadata": {},
   "outputs": [
    {
     "name": "stdout",
     "output_type": "stream",
     "text": [
      "<class 'complex'>\n",
      "(10.5+0j)\n"
     ]
    }
   ],
   "source": [
    "x= 10.5\n",
    "y = complex(x)\n",
    "print(type(y))\n",
    "print(y)"
   ]
  },
  {
   "cell_type": "code",
   "execution_count": 8,
   "id": "3c5e55bf",
   "metadata": {},
   "outputs": [
    {
     "name": "stdout",
     "output_type": "stream",
     "text": [
      "<class 'complex'>\n",
      "(20+0j)\n"
     ]
    }
   ],
   "source": [
    "x= 20\n",
    "y = complex(x)\n",
    "print(type(y))\n",
    "print(y)"
   ]
  },
  {
   "cell_type": "code",
   "execution_count": null,
   "id": "88a58fae",
   "metadata": {},
   "outputs": [],
   "source": [
    "# Python Program to count the number of digit in a Number\n",
    "\n",
    "sample input: 123\n",
    "output: 3"
   ]
  },
  {
   "cell_type": "code",
   "execution_count": 9,
   "id": "686a5e9d",
   "metadata": {},
   "outputs": [
    {
     "name": "stdout",
     "output_type": "stream",
     "text": [
      "Enter Your Number :1234\n",
      "4\n"
     ]
    }
   ],
   "source": [
    "x = input(\"Enter Your Number :\")\n",
    "y = str(x)\n",
    "print(len(y))"
   ]
  },
  {
   "cell_type": "code",
   "execution_count": 11,
   "id": "a3767dcd",
   "metadata": {},
   "outputs": [
    {
     "name": "stdout",
     "output_type": "stream",
     "text": [
      "Enter Your Number6789543\n",
      "7\n"
     ]
    }
   ],
   "source": [
    "x= int(input(\"Enter Your Number\"))\n",
    "count =0\n",
    "while x!=0:\n",
    "    x=x//10\n",
    "    count=count+1\n",
    "print(count)"
   ]
  },
  {
   "cell_type": "markdown",
   "id": "6fd3f38b",
   "metadata": {},
   "source": [
    "### Amstrong number or not"
   ]
  },
  {
   "cell_type": "code",
   "execution_count": 12,
   "id": "ed72a27e",
   "metadata": {},
   "outputs": [
    {
     "data": {
      "text/plain": [
       "3"
      ]
     },
     "execution_count": 12,
     "metadata": {},
     "output_type": "execute_result"
    }
   ],
   "source": [
    "153%10    # % is used for extract the last digit"
   ]
  },
  {
   "cell_type": "code",
   "execution_count": 13,
   "id": "cf7322cb",
   "metadata": {},
   "outputs": [
    {
     "data": {
      "text/plain": [
       "15"
      ]
     },
     "execution_count": 13,
     "metadata": {},
     "output_type": "execute_result"
    }
   ],
   "source": [
    "153//10   #// is used to delete/remove last digit"
   ]
  },
  {
   "cell_type": "code",
   "execution_count": 18,
   "id": "1f808880",
   "metadata": {},
   "outputs": [
    {
     "name": "stdout",
     "output_type": "stream",
     "text": [
      "Enter Your Number :153\n",
      "Remainder value : 3\n",
      "Sum 27\n",
      "Number 153\n",
      "Remainder value : 5\n",
      "Sum 152\n",
      "Number 15\n",
      "Remainder value : 1\n",
      "Sum 153\n",
      "Number 1\n",
      "0\n",
      "Original Number is : 153\n",
      "Number is Amstrong Number :\n"
     ]
    }
   ],
   "source": [
    "num= int(input(\"Enter Your Number :\"))\n",
    "sum=0\n",
    "m =num\n",
    "while num!=0:\n",
    "    rem = num%10 \n",
    "    print(\"Remainder value :\",rem)\n",
    "    sum = sum+ (rem**3)\n",
    "    print(\"Sum\",sum)\n",
    "    print(\"Number\",num)\n",
    "    num = num//10\n",
    "print(num)\n",
    "print(\"Original Number is :\",m)\n",
    "\n",
    "if m==sum:\n",
    "    print(\"Number is Amstrong Number :\")\n",
    "else:\n",
    "    print(\"Not Amstrong\")"
   ]
  },
  {
   "cell_type": "markdown",
   "id": "879ae0d8",
   "metadata": {},
   "source": [
    "### product of digit"
   ]
  },
  {
   "cell_type": "code",
   "execution_count": 22,
   "id": "98a15dd9",
   "metadata": {},
   "outputs": [
    {
     "name": "stdout",
     "output_type": "stream",
     "text": [
      "Enter Your Number :8765\n",
      "1680\n"
     ]
    }
   ],
   "source": [
    "num= int(input(\"Enter Your Number :\"))\n",
    "prod=1\n",
    "while num!=0:\n",
    "    rem = num%10\n",
    "    prod = prod*rem\n",
    "    num = num//10\n",
    "print(prod)"
   ]
  },
  {
   "cell_type": "markdown",
   "id": "533f121d",
   "metadata": {},
   "source": [
    "### Sum of Digit"
   ]
  },
  {
   "cell_type": "code",
   "execution_count": 24,
   "id": "7c4c8391",
   "metadata": {},
   "outputs": [
    {
     "name": "stdout",
     "output_type": "stream",
     "text": [
      "Enter Number :345\n",
      "12\n"
     ]
    }
   ],
   "source": [
    "num = int(input(\"Enter Number :\"))\n",
    "sum=0\n",
    "while num!=0:\n",
    "    rem = num%10\n",
    "    sum = sum + rem\n",
    "    num = num//10\n",
    "print(sum)"
   ]
  },
  {
   "cell_type": "markdown",
   "id": "ee72d76e",
   "metadata": {},
   "source": [
    "### sum of square of first n natural number"
   ]
  },
  {
   "cell_type": "code",
   "execution_count": 34,
   "id": "36d1f181",
   "metadata": {},
   "outputs": [
    {
     "name": "stdout",
     "output_type": "stream",
     "text": [
      "Enter Number :10\n",
      "385\n"
     ]
    }
   ],
   "source": [
    "num = int(input(\"Enter Number :\"))\n",
    "sum =0\n",
    "for i in range(num+1):\n",
    "    sum = sum+ i**2\n",
    "print(sum)\n",
    "    "
   ]
  },
  {
   "cell_type": "markdown",
   "id": "8e44f754",
   "metadata": {},
   "source": [
    "### sum of cube of first n natural number"
   ]
  },
  {
   "cell_type": "code",
   "execution_count": 33,
   "id": "a70aa5df",
   "metadata": {},
   "outputs": [
    {
     "name": "stdout",
     "output_type": "stream",
     "text": [
      "Enter Number :5\n",
      "225\n"
     ]
    }
   ],
   "source": [
    "num = int(input(\"Enter Number :\"))\n",
    "sum =0\n",
    "for i in range(num+1):\n",
    "    sum = sum+ i**3\n",
    "print(sum)\n",
    "    "
   ]
  },
  {
   "cell_type": "markdown",
   "id": "27b6971c",
   "metadata": {},
   "source": [
    "### Sum of odd and even number between range 12 and 37"
   ]
  },
  {
   "cell_type": "code",
   "execution_count": 35,
   "id": "c897fa16",
   "metadata": {},
   "outputs": [],
   "source": [
    "sum_even =0\n",
    "sum_odd =0\n",
    "for i in range (12,38):\n",
    "    if i%2==0:\n",
    "        sum_even = sum_even +i\n",
    "    else:\n",
    "        sum_odd = sum_odd+i"
   ]
  },
  {
   "cell_type": "markdown",
   "id": "2cb58e46",
   "metadata": {},
   "source": [
    "### Write a prog which are divisible by 11 but not by 2 between 100 and 500"
   ]
  },
  {
   "cell_type": "code",
   "execution_count": 37,
   "id": "ca58e901",
   "metadata": {},
   "outputs": [
    {
     "name": "stdout",
     "output_type": "stream",
     "text": [
      "121\n",
      "143\n",
      "165\n",
      "187\n",
      "209\n",
      "231\n",
      "253\n",
      "275\n",
      "297\n",
      "319\n",
      "341\n",
      "363\n",
      "385\n",
      "407\n",
      "429\n",
      "451\n",
      "473\n",
      "495\n"
     ]
    }
   ],
   "source": [
    "for i in range(100,501):\n",
    "    if i%11==0 and i%2!=0:\n",
    "        print(i)"
   ]
  },
  {
   "cell_type": "code",
   "execution_count": null,
   "id": "ba89d189",
   "metadata": {},
   "outputs": [],
   "source": [
    "### write a program bet 10 to 20 but not divisible by 2 and 3"
   ]
  },
  {
   "cell_type": "code",
   "execution_count": 39,
   "id": "8e8db8ed",
   "metadata": {},
   "outputs": [
    {
     "name": "stdout",
     "output_type": "stream",
     "text": [
      "1\n",
      "5\n",
      "7\n",
      "11\n",
      "13\n",
      "17\n",
      "19\n"
     ]
    }
   ],
   "source": [
    "for i in range (1,21):\n",
    "    if i%2!=0 and i%3!=0:\n",
    "        print(i)"
   ]
  },
  {
   "cell_type": "code",
   "execution_count": null,
   "id": "34a0841c",
   "metadata": {},
   "outputs": [],
   "source": [
    "## ascii value "
   ]
  },
  {
   "cell_type": "code",
   "execution_count": 4,
   "id": "bf511fa6",
   "metadata": {},
   "outputs": [
    {
     "name": "stdout",
     "output_type": "stream",
     "text": [
      "Enter Your String :Hello\n",
      "72 101 108 108 111 \n"
     ]
    }
   ],
   "source": [
    "def ascii(c):\n",
    "    for i in c:\n",
    "        print(ord(i), end =\" \")\n",
    "    return \"\"\n",
    "c1 = input(\"Enter Your String :\")\n",
    "print(ascii(c1))"
   ]
  },
  {
   "cell_type": "code",
   "execution_count": 6,
   "id": "4a796f78",
   "metadata": {},
   "outputs": [
    {
     "name": "stdout",
     "output_type": "stream",
     "text": [
      "Enter Your String :Prajakta\n",
      "[80, 114, 97, 106, 97, 107, 116, 97]\n"
     ]
    }
   ],
   "source": [
    "l =[]\n",
    "def ascii(c):\n",
    "    for i in c:\n",
    "        l.append(ord(i))\n",
    "    return l\n",
    "c1 = input(\"Enter Your String :\")\n",
    "print(ascii(c1))"
   ]
  },
  {
   "cell_type": "code",
   "execution_count": null,
   "id": "a4579e0a",
   "metadata": {},
   "outputs": [],
   "source": [
    "### check given number is odd or even"
   ]
  },
  {
   "cell_type": "code",
   "execution_count": 11,
   "id": "477df811",
   "metadata": {},
   "outputs": [
    {
     "name": "stdout",
     "output_type": "stream",
     "text": [
      "Enter Number :25\n",
      "Number is odd Number \n"
     ]
    }
   ],
   "source": [
    "def odd_even(num):\n",
    "    if num%2==0:\n",
    "        return \"Number is Even Number\"\n",
    "    else :\n",
    "        return \"Number is odd Number \"\n",
    "num = int(input(\"Enter Number :\"))\n",
    "print(odd_even(num))"
   ]
  },
  {
   "cell_type": "code",
   "execution_count": null,
   "id": "63f78b88",
   "metadata": {},
   "outputs": [],
   "source": [
    "### Check given number is prime or not "
   ]
  },
  {
   "cell_type": "code",
   "execution_count": 8,
   "id": "81f005db",
   "metadata": {},
   "outputs": [
    {
     "name": "stdout",
     "output_type": "stream",
     "text": [
      "Enter Number :7\n",
      "It is Prime Number\n"
     ]
    }
   ],
   "source": [
    "def prime(n):\n",
    "    if n ==1:\n",
    "        return \"1 is neighther prime nor Composite\"\n",
    "    elif n>1:\n",
    "        if n%2==0:\n",
    "            return \"It is not Prime Number\"\n",
    "        else :\n",
    "            return \"It is Prime Number\"\n",
    "        \n",
    "    else:\n",
    "        return \"It is not Prime Number\"\n",
    "n = int(input(\"Enter Number :\"))\n",
    "print(prime(n))"
   ]
  },
  {
   "cell_type": "markdown",
   "id": "fffd9aa5",
   "metadata": {},
   "source": [
    "### Python Program to find the addition of two Numbers with and Without Lambda Function"
   ]
  },
  {
   "cell_type": "code",
   "execution_count": 1,
   "id": "10041833",
   "metadata": {},
   "outputs": [
    {
     "name": "stdout",
     "output_type": "stream",
     "text": [
      "30\n"
     ]
    }
   ],
   "source": [
    "def sum(a,b):\n",
    "    return a+b\n",
    "print(sum(10,20))"
   ]
  },
  {
   "cell_type": "code",
   "execution_count": 2,
   "id": "bfe4e2f5",
   "metadata": {},
   "outputs": [
    {
     "name": "stdout",
     "output_type": "stream",
     "text": [
      "30\n"
     ]
    }
   ],
   "source": [
    "y= lambda x,y : x+y\n",
    "print(y(10,20))"
   ]
  },
  {
   "cell_type": "markdown",
   "id": "235c9491",
   "metadata": {},
   "source": [
    "### Python Program to find the maximum of two Numbers with and Without Lambda Function"
   ]
  },
  {
   "cell_type": "code",
   "execution_count": 3,
   "id": "f3ea02a0",
   "metadata": {},
   "outputs": [
    {
     "name": "stdout",
     "output_type": "stream",
     "text": [
      "Enter Your First Number10\n",
      "Enter Your Second Number20\n",
      "Second is maximum number\n"
     ]
    }
   ],
   "source": [
    "def max(x,y):\n",
    "    if x > y:\n",
    "        return \"First number is maximum number\"\n",
    "    else:\n",
    "        return \"Second is maximum number\"\n",
    "x = int(input(\"Enter Your First Number\"))\n",
    "y = int(input(\"Enter Your Second Number\"))\n",
    "print(max(x,y))"
   ]
  },
  {
   "cell_type": "code",
   "execution_count": 4,
   "id": "11f7e528",
   "metadata": {},
   "outputs": [
    {
     "name": "stdout",
     "output_type": "stream",
     "text": [
      "Enter First Number :20\n",
      "Enter Second Number :10\n",
      "first number is maximum\n"
     ]
    }
   ],
   "source": [
    "result = lambda a,b : \"first number is maximum\" if a>b else \"Second is maximum\"\n",
    "a= int(input(\"Enter First Number :\"))\n",
    "b = int(input(\"Enter Second Number :\"))\n",
    "print(result(a,b))"
   ]
  },
  {
   "cell_type": "markdown",
   "id": "3f84363c",
   "metadata": {},
   "source": [
    "### Python Program to Check weather a Given Number is Even or Odd with lambda Function"
   ]
  },
  {
   "cell_type": "code",
   "execution_count": 5,
   "id": "575efdfb",
   "metadata": {},
   "outputs": [
    {
     "name": "stdout",
     "output_type": "stream",
     "text": [
      "Enter Your Number :23\n",
      "Number is odd number\n"
     ]
    }
   ],
   "source": [
    "result = lambda x: \"Number is even number\" if x%2==0 else \"Number is odd number\"\n",
    "x = int(input(\"Enter Your Number :\"))\n",
    "print(result(x))"
   ]
  },
  {
   "cell_type": "markdown",
   "id": "8477cc8d",
   "metadata": {},
   "source": [
    "### filter ()"
   ]
  },
  {
   "cell_type": "code",
   "execution_count": 10,
   "id": "a72574f7",
   "metadata": {},
   "outputs": [
    {
     "name": "stdout",
     "output_type": "stream",
     "text": [
      "[12, 14, 16, 18, 20]\n"
     ]
    }
   ],
   "source": [
    "def odd_even(x):\n",
    "    if x%2==0:\n",
    "        return True\n",
    "l =[11,12,13,14,15,16,17,18,19,20]\n",
    "l1 = list(filter(odd_even,l))\n",
    "print(l1)"
   ]
  },
  {
   "cell_type": "code",
   "execution_count": 9,
   "id": "2b767596",
   "metadata": {},
   "outputs": [
    {
     "name": "stdout",
     "output_type": "stream",
     "text": [
      "[12, 14, 16, 18, 20]\n"
     ]
    }
   ],
   "source": [
    "l=[11,12,13,14,15,16,17,18,19,20]\n",
    "l1 = list(filter(lambda x: x%2==0,l))\n",
    "print(l1)"
   ]
  },
  {
   "cell_type": "markdown",
   "id": "fd57190f",
   "metadata": {},
   "source": [
    "### Filter the Number from 1 to 500 which are divisible by 7"
   ]
  },
  {
   "cell_type": "code",
   "execution_count": 11,
   "id": "49d112ae",
   "metadata": {},
   "outputs": [
    {
     "name": "stdout",
     "output_type": "stream",
     "text": [
      "[7, 14, 21, 28, 35, 42, 49, 56, 63, 70, 77, 84, 91, 98, 105, 112, 119, 126, 133, 140, 147, 154, 161, 168, 175, 182, 189, 196, 203, 210, 217, 224, 231, 238, 245, 252, 259, 266, 273, 280, 287, 294, 301, 308, 315, 322, 329, 336, 343, 350, 357, 364, 371, 378, 385, 392, 399, 406, 413, 420, 427, 434, 441, 448, 455, 462, 469, 476, 483, 490, 497]\n"
     ]
    }
   ],
   "source": [
    "l1 = list(filter(lambda x: x%7==0, range(1,500)))\n",
    "print(l1)"
   ]
  },
  {
   "cell_type": "code",
   "execution_count": 2,
   "id": "6435b94a",
   "metadata": {},
   "outputs": [
    {
     "name": "stdout",
     "output_type": "stream",
     "text": [
      "<re.Match object; span=(1, 2), match='r'>\n",
      "<re.Match object; span=(2, 3), match='a'>\n",
      "<re.Match object; span=(3, 4), match='j'>\n",
      "<re.Match object; span=(4, 5), match='a'>\n",
      "<re.Match object; span=(5, 6), match='k'>\n",
      "<re.Match object; span=(6, 7), match='t'>\n",
      "<re.Match object; span=(7, 8), match='a'>\n"
     ]
    }
   ],
   "source": [
    "import re\n",
    "matcher = re.finditer('[a-z]','Prajakta')\n",
    "for i in matcher:\n",
    "    print(i)"
   ]
  },
  {
   "cell_type": "code",
   "execution_count": 4,
   "id": "653de4a9",
   "metadata": {},
   "outputs": [
    {
     "name": "stdout",
     "output_type": "stream",
     "text": [
      "Enter Number10\n",
      "Enter Number 0\n",
      "Number not divisible by zero\n"
     ]
    }
   ],
   "source": [
    "try:\n",
    "    a= int(input(\"Enter Number\"))\n",
    "    b= int(input(\"Enter Number \"))\n",
    "    print(a/b)\n",
    "except:\n",
    "    print(\"Number not divisible by zero\")\n",
    "    "
   ]
  },
  {
   "cell_type": "code",
   "execution_count": 6,
   "id": "4647c0a5",
   "metadata": {},
   "outputs": [
    {
     "name": "stdout",
     "output_type": "stream",
     "text": [
      "Enter first number :10\n",
      "Enter second number :0\n",
      "Not divisible by zero\n"
     ]
    }
   ],
   "source": [
    "# try with multiple except block\n",
    "\n",
    "try:\n",
    "    a= int(input(\"Enter first number :\"))\n",
    "    b = int(input(\"Enter second number :\"))\n",
    "    print(a/b)\n",
    "    \n",
    "except ValueError:\n",
    "    print(\"Please enter integer number\")\n",
    "    \n",
    "except ZeroDivisionError:\n",
    "    print(\"Not divisible by zero\")"
   ]
  },
  {
   "cell_type": "code",
   "execution_count": 9,
   "id": "212708c4",
   "metadata": {},
   "outputs": [
    {
     "name": "stdout",
     "output_type": "stream",
     "text": [
      "Inside Try\n",
      "Except Block\n",
      "Finally\n"
     ]
    }
   ],
   "source": [
    "try:\n",
    "    print(\"Inside Try\")\n",
    "    print(10/0)\n",
    "except ValueError:\n",
    "    print(\"Except\")\n",
    "except:\n",
    "    print(\"Except Block\")\n",
    "finally:\n",
    "    print(\"Finally\")"
   ]
  },
  {
   "cell_type": "code",
   "execution_count": 10,
   "id": "d3a8151f",
   "metadata": {},
   "outputs": [
    {
     "name": "stdout",
     "output_type": "stream",
     "text": [
      "Inside Try\n",
      "Except Block\n",
      "Finally\n"
     ]
    }
   ],
   "source": [
    "try:\n",
    "    print(\"Inside Try\")\n",
    "    print(10/0)\n",
    "    \n",
    "except ValueError:\n",
    "    print(\"Except\")\n",
    "except:\n",
    "    print(\"Except Block\")\n",
    "finally:\n",
    "    print(\"Finally\")"
   ]
  },
  {
   "cell_type": "code",
   "execution_count": 14,
   "id": "4ff3b1aa",
   "metadata": {},
   "outputs": [
    {
     "name": "stdout",
     "output_type": "stream",
     "text": [
      "List is : [1, 2, 3, 4, 5]\n",
      "List After Right Rotation : [5, 1, 2, 3, 4]\n"
     ]
    }
   ],
   "source": [
    "def right_rotate(L):\n",
    "    L=L[-1:-2:-1]+L[:len(L)-1]\n",
    "    return L\n",
    "L=[1,2,3,4,5]\n",
    "print(\"List is :\",L)\n",
    "\n",
    "print(\"List After Right Rotation :\",right_rotate(L))"
   ]
  },
  {
   "cell_type": "markdown",
   "id": "4fdd4cc6",
   "metadata": {},
   "source": [
    "### right rotate by d unit\n",
    "input L=[1,2,3,4,5,6,7]\n",
    "output = [6,7,1,2,3,4,5]"
   ]
  },
  {
   "cell_type": "code",
   "execution_count": 18,
   "id": "a40e26f1",
   "metadata": {},
   "outputs": [
    {
     "name": "stdout",
     "output_type": "stream",
     "text": [
      "List is : [1, 2, 3, 4, 5, 6, 7]\n",
      "After right rotation : [6, 7, 1, 2, 3, 4, 5]\n"
     ]
    }
   ],
   "source": [
    "def right_rotatebyd(L):\n",
    "    L=L[len(L)-d:] + L[:len(L)-d]\n",
    "    return L\n",
    "L = [1,2,3,4,5,6,7]\n",
    "d= 2\n",
    "print(\"List is :\",L)\n",
    "print(\"After right rotation :\",right_rotatebyd(L))"
   ]
  },
  {
   "cell_type": "code",
   "execution_count": null,
   "id": "b9d7b3fc",
   "metadata": {},
   "outputs": [],
   "source": []
  }
 ],
 "metadata": {
  "kernelspec": {
   "display_name": "Python 3 (ipykernel)",
   "language": "python",
   "name": "python3"
  },
  "language_info": {
   "codemirror_mode": {
    "name": "ipython",
    "version": 3
   },
   "file_extension": ".py",
   "mimetype": "text/x-python",
   "name": "python",
   "nbconvert_exporter": "python",
   "pygments_lexer": "ipython3",
   "version": "3.9.13"
  }
 },
 "nbformat": 4,
 "nbformat_minor": 5
}
