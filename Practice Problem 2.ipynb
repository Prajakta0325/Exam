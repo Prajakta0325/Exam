{
 "cells": [
  {
   "cell_type": "code",
   "execution_count": null,
   "id": "1aee28c7",
   "metadata": {},
   "outputs": [],
   "source": [
    "#Python Program to count digit of number"
   ]
  },
  {
   "cell_type": "code",
   "execution_count": 2,
   "id": "973e6884",
   "metadata": {},
   "outputs": [
    {
     "name": "stdout",
     "output_type": "stream",
     "text": [
      "Enter your number789\n",
      "Count of digit is : 3\n"
     ]
    }
   ],
   "source": [
    "x=int(input(\"Enter your number\"))\n",
    "string_1 =str(x)\n",
    "print(\"Count of digit is :\",len(string_1))"
   ]
  },
  {
   "cell_type": "code",
   "execution_count": 5,
   "id": "35905d55",
   "metadata": {},
   "outputs": [
    {
     "name": "stdout",
     "output_type": "stream",
     "text": [
      "Enter number1234\n",
      "123\n",
      "12\n",
      "1\n",
      "0\n",
      "count is  4\n"
     ]
    }
   ],
   "source": [
    "#wherever you want to work on digit always remember (while num!=0) condition\n",
    "num = int(input(\"Enter number\"))\n",
    "count=0\n",
    "while num!=0:\n",
    "    num=num//10\n",
    "    count=count+1\n",
    "    print(num)\n",
    "print(\"count is \",count)"
   ]
  },
  {
   "cell_type": "code",
   "execution_count": null,
   "id": "58ece623",
   "metadata": {},
   "outputs": [],
   "source": [
    "#Python program to check wether number is amstrong number or not\n",
    "sumbition of cube of digit is same as original digit\n",
    "\n",
    "153= 1**3=1   5**3=125    3***3=27\n",
    "     1+125+27 = 153\n"
   ]
  },
  {
   "cell_type": "code",
   "execution_count": null,
   "id": "6e2e9839",
   "metadata": {},
   "outputs": [],
   "source": [
    "# % is used to extract last digit\n",
    "# // remove last digit from original number"
   ]
  },
  {
   "cell_type": "code",
   "execution_count": 13,
   "id": "35e439bf",
   "metadata": {},
   "outputs": [
    {
     "name": "stdout",
     "output_type": "stream",
     "text": [
      "Enter number : 153\n",
      "Number is amstrong number\n"
     ]
    }
   ],
   "source": [
    "num = int(input(\"Enter number : \"))\n",
    "sum=0\n",
    "rem=0\n",
    "amstrong=num\n",
    "while num!=0:                #num=153               num=15                        num=1\n",
    "    rem=num%10               #153%10=3              15%10=5                       1%10=0                    \n",
    "    sum=sum+rem**3           #sum=3**3=27           sum=5**3=125: sum=27+125      sum=1**3=1           \n",
    "    num=num//10              #num=153//10=15        num=15//10=1                  num=1//10=0\n",
    "\n",
    "if sum==amstrong:\n",
    "    print(\"Number is amstrong number\")\n",
    "else:\n",
    "    print(\"Number is not amstrong\")\n",
    "    "
   ]
  },
  {
   "cell_type": "code",
   "execution_count": null,
   "id": "c7846877",
   "metadata": {},
   "outputs": [],
   "source": [
    "#python program to find sum of digit\n",
    "\n",
    "123=1+2+3=6"
   ]
  },
  {
   "cell_type": "code",
   "execution_count": 2,
   "id": "417e7a57",
   "metadata": {},
   "outputs": [
    {
     "name": "stdout",
     "output_type": "stream",
     "text": [
      "Enter Number123\n",
      "6\n"
     ]
    }
   ],
   "source": [
    "num= int(input(\"Enter Number\"))\n",
    "sum=0\n",
    "while num!=0:\n",
    "    rem=num%10\n",
    "    sum=sum+rem\n",
    "    num=num//10\n",
    "print(sum)\n",
    "    "
   ]
  },
  {
   "cell_type": "code",
   "execution_count": 3,
   "id": "33a17d42",
   "metadata": {},
   "outputs": [
    {
     "name": "stdout",
     "output_type": "stream",
     "text": [
      "Enter Number345\n",
      "Product of digit :  60\n"
     ]
    }
   ],
   "source": [
    "#Python program to find product of digit\n",
    "\n",
    "num=int(input(\"Enter Number\"))\n",
    "prod=1\n",
    "while num!=0:\n",
    "    rem=num%10\n",
    "    prod=prod*rem\n",
    "    num=num//10\n",
    "print(\"Product of digit : \",prod)"
   ]
  },
  {
   "cell_type": "code",
   "execution_count": 4,
   "id": "604a297a",
   "metadata": {},
   "outputs": [
    {
     "data": {
      "text/plain": [
       "3"
      ]
     },
     "execution_count": 4,
     "metadata": {},
     "output_type": "execute_result"
    }
   ],
   "source": [
    "123%10     #extract last digit"
   ]
  },
  {
   "cell_type": "code",
   "execution_count": 5,
   "id": "580daeec",
   "metadata": {},
   "outputs": [
    {
     "data": {
      "text/plain": [
       "12"
      ]
     },
     "execution_count": 5,
     "metadata": {},
     "output_type": "execute_result"
    }
   ],
   "source": [
    "123//10   #remove last digit"
   ]
  },
  {
   "cell_type": "code",
   "execution_count": 6,
   "id": "8e9e6360",
   "metadata": {},
   "outputs": [
    {
     "data": {
      "text/plain": [
       "12.3"
      ]
     },
     "execution_count": 6,
     "metadata": {},
     "output_type": "execute_result"
    }
   ],
   "source": [
    "123/10"
   ]
  },
  {
   "cell_type": "code",
   "execution_count": null,
   "id": "4b7deeac",
   "metadata": {},
   "outputs": [],
   "source": [
    "#Python program to check wether number is strong or not\n",
    "\n",
    "145   ==>1\n",
    "      ==>4\n",
    "      ==>5"
   ]
  },
  {
   "cell_type": "code",
   "execution_count": null,
   "id": "6cba3fcb",
   "metadata": {},
   "outputs": [],
   "source": [
    "import math\n",
    "num=int(input(\"Enter Number\"))\n",
    "sum=0\n",
    "m=num\n",
    "while num!=0:\n",
    "    rem=num%10\n",
    "    sum=math.factorial(rem)\n",
    "    num=num//10\n",
    "    \n",
    "if sum==m:\n",
    "    print(\"Number is strong\")\n",
    "else:\n",
    "    print(\"Number is not Strong\")"
   ]
  },
  {
   "cell_type": "code",
   "execution_count": null,
   "id": "c4a43f1c",
   "metadata": {},
   "outputs": [],
   "source": [
    "#python program to find sum of cube of n natural numver"
   ]
  },
  {
   "cell_type": "code",
   "execution_count": 1,
   "id": "83e997b1",
   "metadata": {},
   "outputs": [
    {
     "name": "stdout",
     "output_type": "stream",
     "text": [
      "Enter Number6\n",
      "441\n"
     ]
    }
   ],
   "source": [
    "num=int(input(\"Enter Number\"))\n",
    "sum=0\n",
    "for i in range(num+1):\n",
    "    sum=sum+i**3\n",
    "print(sum)"
   ]
  },
  {
   "cell_type": "code",
   "execution_count": null,
   "id": "69152f5a",
   "metadata": {},
   "outputs": [],
   "source": [
    "# same in while loop\n",
    "num=int(input(\"Enter Number\"))\n",
    "sum=0\n",
    "i=0\n",
    "while i<=num:\n",
    "    sum=sum+i**3\n",
    "    i=i+1\n",
    "print(sum)"
   ]
  },
  {
   "cell_type": "code",
   "execution_count": null,
   "id": "d700bf32",
   "metadata": {},
   "outputs": [],
   "source": [
    "#python program to display even and odd number with range 10 to 20\n",
    "\n",
    "n1=int(input(\"Enter starting number\"))\n",
    "n2=int(input(\"Enter last number\"))\n",
    "sum_even=0\n",
    "sum_odd =0\n",
    "for i in range(n1,n2+1):\n",
    "    if i%2==0:\n",
    "        sum_even = sum_even+i\n",
    "    else:\n",
    "        sum_odd=sum_odd+i\n",
    "print(\"Sum of even number = \",sum_even)\n",
    "print(\"Sum of odd number = \",sum_odd)\n",
    "    "
   ]
  },
  {
   "cell_type": "code",
   "execution_count": 29,
   "id": "b5ee78f9",
   "metadata": {},
   "outputs": [
    {
     "name": "stdout",
     "output_type": "stream",
     "text": [
      "Enter Number11\n",
      "11 It is prime number\n"
     ]
    }
   ],
   "source": [
    "#Python program to check wether number is prime or not\n",
    "#number is divisible only 1 and itself\n",
    "#num=7\n",
    "#7%1\n",
    "#7%2\n",
    "#7%3\n",
    "# check every condition\n",
    "\n",
    "num=int(input(\"Enter Number\"))\n",
    "if num==1 or num==0:\n",
    "    print(num , \"is neither prime not original number\")\n",
    "else:\n",
    "    for i in range(2,num):\n",
    "        if num%i==0:\n",
    "            print(num, \"It is not prime number\")\n",
    "            break\n",
    "    else:\n",
    "        print(num, \"It is prime number\")\n"
   ]
  },
  {
   "cell_type": "code",
   "execution_count": null,
   "id": "7b265dd2",
   "metadata": {},
   "outputs": [],
   "source": []
  }
 ],
 "metadata": {
  "kernelspec": {
   "display_name": "Python 3 (ipykernel)",
   "language": "python",
   "name": "python3"
  },
  "language_info": {
   "codemirror_mode": {
    "name": "ipython",
    "version": 3
   },
   "file_extension": ".py",
   "mimetype": "text/x-python",
   "name": "python",
   "nbconvert_exporter": "python",
   "pygments_lexer": "ipython3",
   "version": "3.9.13"
  }
 },
 "nbformat": 4,
 "nbformat_minor": 5
}
