{
 "cells": [
  {
   "cell_type": "code",
   "execution_count": 3,
   "id": "0ae5533b",
   "metadata": {},
   "outputs": [
    {
     "name": "stdout",
     "output_type": "stream",
     "text": [
      "Enter Your String :PrajaktAD\n",
      "Upper case count =  3\n",
      "lower case count =  6\n",
      "\n"
     ]
    }
   ],
   "source": [
    "def upper_lower(string1):\n",
    "    upper_count=0\n",
    "    lower_count=0\n",
    "    for i in string1:\n",
    "        if (i.isupper()):\n",
    "            upper_count = upper_count+1\n",
    "        elif (i.islower()):\n",
    "            lower_count = lower_count+1\n",
    "    print(\"Upper case count = \",upper_count)\n",
    "    print(\"lower case count = \",lower_count)\n",
    "    return \"\"\n",
    "string1 = input(\"Enter Your String :\")\n",
    "print(upper_lower(string1))\n",
    "        "
   ]
  },
  {
   "cell_type": "code",
   "execution_count": 9,
   "id": "ee180d13",
   "metadata": {},
   "outputs": [
    {
     "name": "stdout",
     "output_type": "stream",
     "text": [
      "Enter your string : tyuk\n",
      "kuyt\n"
     ]
    }
   ],
   "source": [
    "def reverse_string(x):\n",
    "    for i in range((len(x)-1),-1,-1):\n",
    "        print(x[i], end=\"\")\n",
    "    return \"\"\n",
    "x=input(\"Enter your string : \")\n",
    "print(reverse_string(x))\n",
    "        "
   ]
  },
  {
   "cell_type": "code",
   "execution_count": 14,
   "id": "60e3d38c",
   "metadata": {},
   "outputs": [
    {
     "name": "stdout",
     "output_type": "stream",
     "text": [
      "Enter Number :153\n",
      "Amstrong Number\n",
      "\n"
     ]
    }
   ],
   "source": [
    "def armstrong_number(num):\n",
    "    m=num\n",
    "    sum=0\n",
    "    while num!=0:\n",
    "        rem = num%10\n",
    "        sum = sum+ rem**3\n",
    "        num = num//10\n",
    "    if m==sum:\n",
    "        print(\"Amstrong Number\")\n",
    "    else:\n",
    "        print(\"Not Amstrong Number\")\n",
    "    return \"\"\n",
    "num=int(input(\"Enter Number :\"))\n",
    "print(armstrong_number(num))"
   ]
  },
  {
   "cell_type": "code",
   "execution_count": 15,
   "id": "fbd71f0d",
   "metadata": {},
   "outputs": [
    {
     "name": "stdout",
     "output_type": "stream",
     "text": [
      "Enter Your Number :456\n",
      "15\n",
      "\n"
     ]
    }
   ],
   "source": [
    "def sum_digit(num):\n",
    "    sum=0\n",
    "    while num!=0:\n",
    "        rem = num%10\n",
    "        sum = sum+rem\n",
    "        num= num//10\n",
    "    print(sum)\n",
    "    return \"\"\n",
    "num= int(input(\"Enter Your Number :\"))\n",
    "print(sum_digit(num))"
   ]
  },
  {
   "cell_type": "code",
   "execution_count": 17,
   "id": "a62c88bb",
   "metadata": {},
   "outputs": [
    {
     "name": "stdout",
     "output_type": "stream",
     "text": [
      "Enter first number :2\n",
      "Enter Second Number :10\n",
      "3\n",
      "5\n",
      "7\n",
      "9\n",
      "None\n"
     ]
    }
   ],
   "source": [
    "# prime number with range\n",
    "\n",
    "def prime_number(num1,num2):\n",
    "    for i in range(num1,num2):\n",
    "        if i%2==0:\n",
    "            continue\n",
    "        else:\n",
    "            print(i)\n",
    "num1=int(input(\"Enter first number :\"))\n",
    "num2 = int(input(\"Enter Second Number :\"))\n",
    "print(prime_number(num1,num2))"
   ]
  },
  {
   "cell_type": "code",
   "execution_count": null,
   "id": "17ec2783",
   "metadata": {},
   "outputs": [],
   "source": []
  }
 ],
 "metadata": {
  "kernelspec": {
   "display_name": "Python 3 (ipykernel)",
   "language": "python",
   "name": "python3"
  },
  "language_info": {
   "codemirror_mode": {
    "name": "ipython",
    "version": 3
   },
   "file_extension": ".py",
   "mimetype": "text/x-python",
   "name": "python",
   "nbconvert_exporter": "python",
   "pygments_lexer": "ipython3",
   "version": "3.9.13"
  }
 },
 "nbformat": 4,
 "nbformat_minor": 5
}
