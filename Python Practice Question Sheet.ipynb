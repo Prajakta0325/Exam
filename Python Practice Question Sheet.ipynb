{
 "cells": [
  {
   "cell_type": "markdown",
   "id": "29ba6d40",
   "metadata": {},
   "source": [
    "# Operator"
   ]
  },
  {
   "cell_type": "code",
   "execution_count": null,
   "id": "0f9443bd",
   "metadata": {},
   "outputs": [],
   "source": [
    "1) Python program to add two numbers\n",
    "2) Python Program to Perform all arithmetic operations\n",
    "3) Python Program for Program to find area of a circle\n",
    "4) Python Program to find Area and Perimeter of Square and Rectangle\n",
    "5) Python Program to find simple interest\n",
    "6) Python Program to Find Compound Interest\n",
    "7) Python Program to Convert fahrenheit to celsius Temperature"
   ]
  },
  {
   "cell_type": "code",
   "execution_count": 1,
   "id": "b3859623",
   "metadata": {},
   "outputs": [
    {
     "name": "stdout",
     "output_type": "stream",
     "text": [
      "30\n"
     ]
    }
   ],
   "source": [
    "#1) Python program to add two numbers\n",
    "\n",
    "x=10\n",
    "y=20\n",
    "print(x+y)"
   ]
  },
  {
   "cell_type": "code",
   "execution_count": 2,
   "id": "c703c5e0",
   "metadata": {},
   "outputs": [
    {
     "name": "stdout",
     "output_type": "stream",
     "text": [
      "Enter Number30\n",
      "Enter Second Number10\n",
      "Addition 40\n",
      "Substraction 20\n",
      "Multiplication 300\n",
      "Moduls 0\n",
      "Division 3.0\n",
      "Floar Division 3\n"
     ]
    }
   ],
   "source": [
    "# 2) Python Program to Perform all arithmetic operations\n",
    "x= int(input(\"Enter Number : \"))\n",
    "y= int(input(\"Enter Second Number : \"))\n",
    "print(\"Addition\",(x+y))\n",
    "print(\"Substraction\",(x-y))\n",
    "print(\"Multiplication\",(x*y))\n",
    "print(\"Moduls\",(x%y))\n",
    "print(\"Division\",(x/y))\n",
    "print(\"Floar Division\",(x//y))"
   ]
  },
  {
   "cell_type": "code",
   "execution_count": 2,
   "id": "deada17e",
   "metadata": {},
   "outputs": [
    {
     "name": "stdout",
     "output_type": "stream",
     "text": [
      "Enter Radius :2\n",
      "Area of Circle =  12.56\n"
     ]
    }
   ],
   "source": [
    "#3) Python Program for Program to find area of a circle\n",
    "\n",
    "r=int(input(\"Enter Radius :\"))\n",
    "area=3.14*(r)**2\n",
    "print(\"Area of Circle = \",area)"
   ]
  },
  {
   "cell_type": "code",
   "execution_count": 5,
   "id": "723760ea",
   "metadata": {},
   "outputs": [
    {
     "name": "stdout",
     "output_type": "stream",
     "text": [
      "Enter Length : 10\n",
      "Enter Width :20\n",
      "Enter side of square :3\n",
      "Area of Square =  9\n",
      "Perimeter of Square =  12\n",
      "Area of Rectangle =  200\n",
      "Perimeter of Rectangle =  60\n"
     ]
    }
   ],
   "source": [
    "#4) Python Program to find Area and Perimeter of Square and Rectangle\n",
    "\n",
    "length=int(input(\"Enter Length : \"))\n",
    "width=int(input(\"Enter Width :\"))\n",
    "side=int(input(\"Enter side of square :\"))\n",
    "\n",
    "SquareArea=side**2\n",
    "RectangleArea=length*width\n",
    "\n",
    "PerimeterSquare= 4*side\n",
    "PerimeterRectangle= 2*(length+width)\n",
    "\n",
    "print(\"Area of Square = \",SquareArea)\n",
    "print(\"Perimeter of Square = \",PerimeterSquare)\n",
    "print(\"Area of Rectangle = \",RectangleArea)\n",
    "print(\"Perimeter of Rectangle = \",PerimeterRectangle)"
   ]
  },
  {
   "cell_type": "code",
   "execution_count": 7,
   "id": "c1e6cb25",
   "metadata": {},
   "outputs": [
    {
     "name": "stdout",
     "output_type": "stream",
     "text": [
      "Enter Principal Amount : 1000\n",
      "Enter Rate of Intrest : 11\n",
      "Enter Time Period : 2\n",
      "Simple Interest is =  220.0\n"
     ]
    }
   ],
   "source": [
    "#5) Python Program to find simple interest\n",
    "#si=(p*r*t)/100\n",
    "\n",
    "p = int(input(\"Enter Principal Amount : \"))\n",
    "r = int(input(\"Enter Rate of Intrest : \"))\n",
    "t = int(input(\"Enter Time Period : \"))\n",
    "\n",
    "si=(p*r*t)/100\n",
    "print(\"Simple Interest is = \",si)"
   ]
  },
  {
   "cell_type": "code",
   "execution_count": 11,
   "id": "28e371b7",
   "metadata": {},
   "outputs": [
    {
     "name": "stdout",
     "output_type": "stream",
     "text": [
      "Enter Fahrenheit Temperature : 97\n",
      "Celsius Temperature =  36.111111111111114\n"
     ]
    }
   ],
   "source": [
    "#7) Python Program to Convert fahrenheit to celsius Temperature\n",
    "# c=5/9 x (F-32)\n",
    "\n",
    "f=int(input(\"Enter Fahrenheit Temperature : \"))\n",
    "\n",
    "c= (5/9) * (f-32)\n",
    "\n",
    "print(\"Celsius Temperature = \",c)"
   ]
  },
  {
   "cell_type": "markdown",
   "id": "c5a753dd",
   "metadata": {},
   "source": [
    "# Lambda function and filter function and Map()"
   ]
  },
  {
   "cell_type": "code",
   "execution_count": null,
   "id": "9875db0c",
   "metadata": {},
   "outputs": [],
   "source": [
    "\n",
    "Write a Python program to sort a list of tuples using Lambda.\n",
    "Write a Python program to filter a list of integers using Lambda\n",
    "Write a Python program to square and cube every number in a given list of integers using Lambda\n",
    "Write a Python program to find if a given string starts with a given character using Lambda.\n",
    "Write a Python program to check whether a given string is number or not using Lambda\n",
    "Write a Python program to find the values of length six in a given list using Lambda\n",
    "\n",
    "Write a Python program to listify the list of given strings individually using Python map\n",
    "Write a Python program to square the elements of a list using map() function\n",
    "Write a Python program to add two given lists and find the difference between lists. Use map() function.\n",
    "Write a Python program to convert a given list of integers and a tuple of integers in a list of strings.\n",
    "\n",
    "\n",
    "Using filter() and list() functions filter all the positive integers in the string.\n",
    "Using map() and filter() functions add 2000 to the values below 8000. in the given list"
   ]
  },
  {
   "cell_type": "code",
   "execution_count": 28,
   "id": "b346e2cb",
   "metadata": {},
   "outputs": [
    {
     "name": "stdout",
     "output_type": "stream",
     "text": [
      "[31, 33, 35, 37]\n"
     ]
    }
   ],
   "source": [
    "#Using filter function, filter the even numbers so that only odd numbers are passed to the new list.\n",
    "\n",
    "l1=[30,31,32,33,34,35,36,37,38,40]\n",
    "result=list(filter(lambda x:x%2!=0,l1))\n",
    "print(result)"
   ]
  },
  {
   "cell_type": "code",
   "execution_count": 36,
   "id": "bf6f8401",
   "metadata": {},
   "outputs": [
    {
     "name": "stdout",
     "output_type": "stream",
     "text": [
      "['i', 'e', 'O', 'i', 'i']\n"
     ]
    }
   ],
   "source": [
    "#Using filter() and list() functions and .lower() method filter all the vowels in a given string.\n",
    "\n",
    "str1=\"Winter Olympics in 2023\"\n",
    "result=list(filter(lambda x:True if x.lower() in\"aeiou\" else False,str1))\n",
    "print(result)"
   ]
  },
  {
   "cell_type": "code",
   "execution_count": 18,
   "id": "251ff008",
   "metadata": {},
   "outputs": [
    {
     "data": {
      "text/plain": [
       "[100, 400, 3600, 1600, 2500]"
      ]
     },
     "execution_count": 18,
     "metadata": {},
     "output_type": "execute_result"
    }
   ],
   "source": [
    "#Write a Python program to find square of each number using Lambda.\n",
    "\n",
    "l=[10,20,60,40,50]\n",
    "re=list(map(lambda x:x**2,l))\n",
    "re"
   ]
  },
  {
   "cell_type": "code",
   "execution_count": 18,
   "id": "2be69ec5",
   "metadata": {},
   "outputs": [
    {
     "ename": "AttributeError",
     "evalue": "'int' object has no attribute 'isnumeric'",
     "output_type": "error",
     "traceback": [
      "\u001b[1;31m---------------------------------------------------------------------------\u001b[0m",
      "\u001b[1;31mAttributeError\u001b[0m                            Traceback (most recent call last)",
      "\u001b[1;32m~\\AppData\\Local\\Temp\\ipykernel_11756\\1749877565.py\u001b[0m in \u001b[0;36m<module>\u001b[1;34m\u001b[0m\n\u001b[0;32m      1\u001b[0m \u001b[0ml1\u001b[0m\u001b[1;33m=\u001b[0m\u001b[1;33m[\u001b[0m\u001b[1;36m10\u001b[0m\u001b[1;33m,\u001b[0m\u001b[1;36m20\u001b[0m\u001b[1;33m,\u001b[0m\u001b[1;34m\"Hi\"\u001b[0m\u001b[1;33m,\u001b[0m\u001b[1;34m\"Praju\"\u001b[0m\u001b[1;33m,\u001b[0m\u001b[1;36m70\u001b[0m\u001b[1;33m]\u001b[0m\u001b[1;33m\u001b[0m\u001b[1;33m\u001b[0m\u001b[0m\n\u001b[1;32m----> 2\u001b[1;33m \u001b[0mresult\u001b[0m \u001b[1;33m=\u001b[0m \u001b[0mlist\u001b[0m\u001b[1;33m(\u001b[0m\u001b[0mfilter\u001b[0m\u001b[1;33m(\u001b[0m\u001b[1;32mlambda\u001b[0m \u001b[0mx\u001b[0m\u001b[1;33m:\u001b[0m \u001b[1;32mTrue\u001b[0m \u001b[1;32mif\u001b[0m \u001b[0mx\u001b[0m\u001b[1;33m.\u001b[0m\u001b[0misnumeric\u001b[0m\u001b[1;33m(\u001b[0m\u001b[1;33m)\u001b[0m\u001b[1;32min\u001b[0m \u001b[0ml1\u001b[0m \u001b[1;32melse\u001b[0m \u001b[1;32mFalse\u001b[0m\u001b[1;33m,\u001b[0m\u001b[0ml1\u001b[0m\u001b[1;33m)\u001b[0m\u001b[1;33m)\u001b[0m\u001b[1;33m\u001b[0m\u001b[1;33m\u001b[0m\u001b[0m\n\u001b[0m\u001b[0;32m      3\u001b[0m \u001b[0mprint\u001b[0m\u001b[1;33m(\u001b[0m\u001b[0mresult\u001b[0m\u001b[1;33m)\u001b[0m\u001b[1;33m\u001b[0m\u001b[1;33m\u001b[0m\u001b[0m\n",
      "\u001b[1;32m~\\AppData\\Local\\Temp\\ipykernel_11756\\1749877565.py\u001b[0m in \u001b[0;36m<lambda>\u001b[1;34m(x)\u001b[0m\n\u001b[0;32m      1\u001b[0m \u001b[0ml1\u001b[0m\u001b[1;33m=\u001b[0m\u001b[1;33m[\u001b[0m\u001b[1;36m10\u001b[0m\u001b[1;33m,\u001b[0m\u001b[1;36m20\u001b[0m\u001b[1;33m,\u001b[0m\u001b[1;34m\"Hi\"\u001b[0m\u001b[1;33m,\u001b[0m\u001b[1;34m\"Praju\"\u001b[0m\u001b[1;33m,\u001b[0m\u001b[1;36m70\u001b[0m\u001b[1;33m]\u001b[0m\u001b[1;33m\u001b[0m\u001b[1;33m\u001b[0m\u001b[0m\n\u001b[1;32m----> 2\u001b[1;33m \u001b[0mresult\u001b[0m \u001b[1;33m=\u001b[0m \u001b[0mlist\u001b[0m\u001b[1;33m(\u001b[0m\u001b[0mfilter\u001b[0m\u001b[1;33m(\u001b[0m\u001b[1;32mlambda\u001b[0m \u001b[0mx\u001b[0m\u001b[1;33m:\u001b[0m \u001b[1;32mTrue\u001b[0m \u001b[1;32mif\u001b[0m \u001b[0mx\u001b[0m\u001b[1;33m.\u001b[0m\u001b[0misnumeric\u001b[0m\u001b[1;33m(\u001b[0m\u001b[1;33m)\u001b[0m\u001b[1;32min\u001b[0m \u001b[0ml1\u001b[0m \u001b[1;32melse\u001b[0m \u001b[1;32mFalse\u001b[0m\u001b[1;33m,\u001b[0m\u001b[0ml1\u001b[0m\u001b[1;33m)\u001b[0m\u001b[1;33m)\u001b[0m\u001b[1;33m\u001b[0m\u001b[1;33m\u001b[0m\u001b[0m\n\u001b[0m\u001b[0;32m      3\u001b[0m \u001b[0mprint\u001b[0m\u001b[1;33m(\u001b[0m\u001b[0mresult\u001b[0m\u001b[1;33m)\u001b[0m\u001b[1;33m\u001b[0m\u001b[1;33m\u001b[0m\u001b[0m\n",
      "\u001b[1;31mAttributeError\u001b[0m: 'int' object has no attribute 'isnumeric'"
     ]
    }
   ],
   "source": [
    "\n",
    "l1=[10,20,\"Hi\",\"Praju\",70]\n",
    "result = list(filter(lambda x: True if x.isnumeric()in l1 else False,l1))\n",
    "print(result)"
   ]
  },
  {
   "cell_type": "code",
   "execution_count": 1,
   "id": "2da18b8a",
   "metadata": {},
   "outputs": [
    {
     "name": "stdout",
     "output_type": "stream",
     "text": [
      "10 20 30 40 50\n",
      "[30, 60, 90, 120, 150]\n"
     ]
    }
   ],
   "source": [
    "#Write a Python program to triple all numbers of a given list of integers. Use Python map\n",
    "\n",
    "l=list(map(int,input().split()))\n",
    "result=list(map(lambda x:x*3,l))\n",
    "print(result)"
   ]
  },
  {
   "cell_type": "code",
   "execution_count": 9,
   "id": "37f5e9dd",
   "metadata": {},
   "outputs": [
    {
     "name": "stdout",
     "output_type": "stream",
     "text": [
      "10\n",
      "[35]\n"
     ]
    }
   ],
   "source": [
    "#Write a Python program to create a lambda function that adds 15 to a given number passed in as an argument, \n",
    "#also create a lambda function that multiplies argument x with argument y and print the result\n",
    "\n",
    "l=list(map(int,input().split()))\n",
    "result=list(map(lambda x:x+15,l))\n",
    "print(result)"
   ]
  },
  {
   "cell_type": "code",
   "execution_count": 10,
   "id": "f925d0e9",
   "metadata": {},
   "outputs": [
    {
     "name": "stdout",
     "output_type": "stream",
     "text": [
      "[20, 60, 120]\n"
     ]
    }
   ],
   "source": [
    "#also create a lambda function that multiplies argument x with argument y and print the result\n",
    "l1=[10,20,30]\n",
    "l2=[2,3,4]\n",
    "result=list(map(lambda x,y: x*y,l1,l2))\n",
    "print(result)"
   ]
  },
  {
   "cell_type": "code",
   "execution_count": 24,
   "id": "76ae03fd",
   "metadata": {},
   "outputs": [
    {
     "name": "stdout",
     "output_type": "stream",
     "text": [
      "[12, 23, 34, 45]\n"
     ]
    }
   ],
   "source": [
    "#Write a Python program to add three given lists using Python map and lambda.\n",
    "\n",
    "l1=[10,20,30,40]\n",
    "l2=[1,2,3,4]\n",
    "l3=[1,1,1,1]\n",
    "result=list(map(lambda x,y,z:x+y+z,l1,l2,l3))\n",
    "print(result)"
   ]
  },
  {
   "cell_type": "code",
   "execution_count": 33,
   "id": "082bc03a",
   "metadata": {},
   "outputs": [],
   "source": [
    "#Using map() and filter() functions add 2000 to the values below 8000. in the given list\n",
    "\n",
    "l1=[1000,2000,3000,4000,5000,6000,7000]\n"
   ]
  },
  {
   "cell_type": "code",
   "execution_count": null,
   "id": "394a50cd",
   "metadata": {},
   "outputs": [],
   "source": [
    "Using filter() and list() functions filter all the positive integers in the string.\n"
   ]
  },
  {
   "cell_type": "code",
   "execution_count": 3,
   "id": "9b65b0e7",
   "metadata": {},
   "outputs": [
    {
     "name": "stdout",
     "output_type": "stream",
     "text": [
      "2443428921792\n",
      "[33, 2, 3, 4]\n",
      "2443428921792\n"
     ]
    }
   ],
   "source": [
    "l=[]\n",
    "l=[1,2,3,4]\n",
    "print(id(l))\n",
    "l[0]=33\n",
    "print(l)\n",
    "print(id(l))"
   ]
  },
  {
   "cell_type": "code",
   "execution_count": null,
   "id": "6dda4d73",
   "metadata": {},
   "outputs": [],
   "source": []
  },
  {
   "cell_type": "markdown",
   "id": "1e61dfe2",
   "metadata": {},
   "source": [
    "# OOPS"
   ]
  },
  {
   "cell_type": "code",
   "execution_count": null,
   "id": "575231cc",
   "metadata": {},
   "outputs": [],
   "source": [
    "Create a Rectangle class and Perform Below Operations\n",
    "Write a Rectangle class in Python language, allowing you to build a rectangle with length and width attributes.\n",
    "Create a Perimeter() method to calculate the perimeter of the rectangle and a Area() method to calculate the area of \n",
    "the rectangle.\n",
    "Create a method display() that display the length, width, perimeter \n",
    "and area of an object created using an instantiation on rectangle class."
   ]
  },
  {
   "cell_type": "code",
   "execution_count": 27,
   "id": "98bf91cc",
   "metadata": {},
   "outputs": [
    {
     "name": "stdout",
     "output_type": "stream",
     "text": [
      "Enter length of Rectangle : 10\n",
      "Enter width of Rectangle : 20\n",
      "****************************************************************************************************\n",
      "Length of Rectangle =  10\n",
      "Width of Rectangle =  20\n",
      "Perimeter of Rectangle : 60\n",
      "Area of Reactangle  200\n"
     ]
    }
   ],
   "source": [
    "class Rectangle():\n",
    "    def __init__(self,length,width):\n",
    "        self.length=length\n",
    "        self.width=width\n",
    "        \n",
    "    def Perimeter(self):\n",
    "        return (2*self.length+2*self.width)\n",
    "             \n",
    "    def Area(self):\n",
    "        return (self.length*self.width)    \n",
    "        \n",
    "    def display(self):\n",
    "        print(\"*\"*100)\n",
    "        print(\"Length of Rectangle = \",self.length)\n",
    "        print(\"Width of Rectangle = \",self.width)\n",
    "        \n",
    "l=int(input(\"Enter length of Rectangle : \"))\n",
    "w=int(input(\"Enter width of Rectangle : \"))\n",
    "        \n",
    "r=Rectangle(l,w)\n",
    "r.display()\n",
    "print(\"Perimeter of Rectangle :\",r.Perimeter())\n",
    "print(\"Area of Reactangle \",r.Area())\n"
   ]
  },
  {
   "cell_type": "code",
   "execution_count": null,
   "id": "c41214e2",
   "metadata": {},
   "outputs": [],
   "source": [
    "Create a Python class Person with attributes: name and age of type string.\n",
    "Create a display() method that displays the name and age of an object created via the Person class\n",
    "Create a child class Student  which inherits from the Person class and which also has a section attribute.\n",
    "Create a method displayStudent() that displays the name, age and section of an object created via the Student class.\n",
    "Create a student object via an instantiation on the Student class and then test the displayStudent method."
   ]
  },
  {
   "cell_type": "code",
   "execution_count": 32,
   "id": "b0f5fc5c",
   "metadata": {},
   "outputs": [
    {
     "name": "stdout",
     "output_type": "stream",
     "text": [
      "Enter Your Name : Prajakta\n",
      "Enter Your Age :26\n",
      "Enter Section :ABC\n",
      "****************************************************************************************************\n",
      "Name :  Prajakta\n",
      "Age :  26\n",
      "Section : ABC\n"
     ]
    }
   ],
   "source": [
    "class Person():\n",
    "    def __init__(self,name,age):\n",
    "        self.name=name\n",
    "        self.age=age\n",
    "        \n",
    "    def display(self):\n",
    "        print(\"*\"*100)\n",
    "        print(\"Name : \",self.name)\n",
    "        print(\"Age : \",self.age)\n",
    "        \n",
    "class Student(Person):\n",
    "    def __init__(self,name,age,section):\n",
    "        self.section=section\n",
    "        super().__init__(name,age)\n",
    "        \n",
    "    def displayStudent(self):\n",
    "        print(\"*\"*100)\n",
    "        print(\"Name : \",self.name)\n",
    "        print(\"Age : \",self.age)\n",
    "        print(\"Section :\",self.section)\n",
    "        \n",
    "n=input(\"Enter Your Name : \")\n",
    "a=int(input(\"Enter Your Age :\"))\n",
    "s=input(\"Enter Section :\")\n",
    "\n",
    "p=Student(n,a,s)\n",
    "p.displayStudent()"
   ]
  },
  {
   "cell_type": "code",
   "execution_count": null,
   "id": "da5ae38a",
   "metadata": {},
   "outputs": [],
   "source": []
  },
  {
   "cell_type": "code",
   "execution_count": null,
   "id": "d979de5b",
   "metadata": {},
   "outputs": [],
   "source": [
    "Create a Book Class and performed Below Operations\n",
    "Define a Book class with the following attributes: Title, Author (Full name), Price.\n",
    "Define a constructor used to initialize the attributes of the method with values entered by the user.\n",
    "Set the View() method to display information for the current book."
   ]
  },
  {
   "cell_type": "code",
   "execution_count": 34,
   "id": "2a328901",
   "metadata": {},
   "outputs": [
    {
     "name": "stdout",
     "output_type": "stream",
     "text": [
      "Enter Book Title : Harry Potter\n",
      "Enter Author of Book : J.K.\n",
      "Enter Price of Book :500\n",
      "****************************************************************************************************\n",
      "Title of Book :  Harry Potter\n",
      "Author Name : J.K.\n",
      "Price for Book : 500\n"
     ]
    }
   ],
   "source": [
    "class Book():\n",
    "    def __init__(self,Title,Author,Price):\n",
    "        self.Title=Title\n",
    "        self.Author=Author\n",
    "        self.Price=Price\n",
    "        \n",
    "    def view(self):\n",
    "        print(\"*\"*100)\n",
    "        print(\"Title of Book : \",self.Title)\n",
    "        print(\"Author Name :\",self.Author)\n",
    "        print(\"Price for Book :\",self.Price)\n",
    "        \n",
    "t=input(\"Enter Book Title : \")\n",
    "a=input(\"Enter Author of Book : \")\n",
    "p=int(input(\"Enter Price of Book :\"))\n",
    "\n",
    "b=Book(t,a,p)\n",
    "b.view()"
   ]
  },
  {
   "cell_type": "code",
   "execution_count": null,
   "id": "e298942b",
   "metadata": {},
   "outputs": [],
   "source": []
  }
 ],
 "metadata": {
  "kernelspec": {
   "display_name": "Python 3 (ipykernel)",
   "language": "python",
   "name": "python3"
  },
  "language_info": {
   "codemirror_mode": {
    "name": "ipython",
    "version": 3
   },
   "file_extension": ".py",
   "mimetype": "text/x-python",
   "name": "python",
   "nbconvert_exporter": "python",
   "pygments_lexer": "ipython3",
   "version": "3.9.13"
  }
 },
 "nbformat": 4,
 "nbformat_minor": 5
}
